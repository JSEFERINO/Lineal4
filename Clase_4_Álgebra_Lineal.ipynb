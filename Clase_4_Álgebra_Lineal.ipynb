{
  "nbformat": 4,
  "nbformat_minor": 0,
  "metadata": {
    "colab": {
      "provenance": [],
      "include_colab_link": true
    },
    "kernelspec": {
      "name": "python3",
      "display_name": "Python 3"
    },
    "language_info": {
      "name": "python"
    }
  },
  "cells": [
    {
      "cell_type": "markdown",
      "metadata": {
        "id": "view-in-github",
        "colab_type": "text"
      },
      "source": [
        "<a href=\"https://colab.research.google.com/github/JSEFERINO/Lineal4/blob/main/Clase_4_%C3%81lgebra_Lineal.ipynb\" target=\"_parent\"><img src=\"https://colab.research.google.com/assets/colab-badge.svg\" alt=\"Open In Colab\"/></a>"
      ]
    },
    {
      "cell_type": "code",
      "source": [],
      "metadata": {
        "id": "9RntYW4rzwXr"
      },
      "execution_count": null,
      "outputs": []
    },
    {
      "cell_type": "code",
      "source": [
        "import numpy as np\n",
        "import matplotlib\n",
        "import matplotlib.pyplot as plt\n",
        "\n",
        "# Un alumno dijo una alternativa a load_boston()\n",
        "# https://github.com/scikit-learn/scikit-learn/blob/main/sklearn/datasets/data/boston_house_prices.csv\n",
        "# Modulo para resolver ecuaciones diferenciales ordinarias.\n",
        "from scipy.integrate import odeint\n",
        "\n",
        "# Importar la biblioteca de álgebra lineal de scipy\n",
        "from scipy import linalg as la\n",
        "from sympy import Function, rsolve, symbols, Eq\n",
        "\n",
        "# Definir la variable independiente y la función desconocida\n",
        "t = symbols('t')  # Variable independiente\n",
        "y = Function('y')  # Función desconocida\n",
        "\n",
        "# Coeficientes de la ecuación\n",
        "a18 = 1 # Coeficiente de y(t+18)\n",
        "a17 = 0 # Coeficiente de y(t+17)\n",
        "a16 = 0 # Coeficiente de y(t+16)\n",
        "a15 = 12 # Coeficiente de y(t+15)\n",
        "a14 = 0 # Coeficiente de y(t+14)\n",
        "a13 = 0 # Coeficiente de y(t+13)\n",
        "a12 = 0 # Coeficiente de y(t+12)\n",
        "a11 = 6 # Coeficiente de y(t+11)\n",
        "a10 = 0 # Coeficiente de y(t+10)\n",
        "a9 = 0 # Coeficiente de y(t+9)\n",
        "a8 = 0 # Coeficiente de y(t+8)\n",
        "a7 = -7 # Coeficiente de y(t+7)\n",
        "a6 = 0 # Coeficiente de y(t+6)\n",
        "a5 = 1 # Coeficiente de y(t+5)\n",
        "a4 = 0 # Coeficiente de y(t+4)\n",
        "a3= 1  # Coeficiente de y(t+3)\n",
        "a2 = 1  # Coeficiente de y(t+2)\n",
        "a1 = -3  # Coeficiente de y(t+1)\n",
        "a0 = -12  # Coeficiente de y(t)\n",
        "\n",
        "# Término no homogéneo (puedes cambiarlo según el problema)\n",
        "f_t = 9*t**5 + 8*t**3 + 7*t\n",
        "# Ecuación en diferencias no homogénea\n",
        "eq = Eq(a18* y(t+18) + a17* y(t+17) + a16* y(t+16) + a15* y(t+15) + a14* y(t+14) + a13* y(t+13) + a12* y(t+12) + a11* (t+11) + a10* y(t+10) + a9* y(t+9) + a8* y(t+8) + a7* y(t+7) + a6* y(t+6) + a5* y(t+5) + a4* y(t+4) + a3* y(t+3) +a2 * y(t + 2) + a1 * y(t + 1) + a0 * y(t), f_t)\n",
        "\n",
        "# Resolver la ecuación en diferencias\n",
        "sol_general = rsolve(eq, y(t))\n",
        "\n",
        "# Mostrar la solución general\n",
        "print(\"La solución general de la ecuación es:\")\n",
        "print(sol_general)"
      ],
      "metadata": {
        "id": "5-LBcdT6XBTM"
      },
      "execution_count": null,
      "outputs": []
    },
    {
      "cell_type": "markdown",
      "source": [
        "## Operaciones de matrices y vectores"
      ],
      "metadata": {
        "id": "-4c3Is0xW4p-"
      }
    },
    {
      "cell_type": "markdown",
      "source": [
        "Si A y B son dos matrices que se definien de la siguiente forma:"
      ],
      "metadata": {
        "id": "HvtZowiXBrfc"
      }
    },
    {
      "cell_type": "code",
      "source": [
        "A = np.array([[4, 6, 2],[-4, 6, 1],[8, -2, 3]])\n",
        "B = np.array([[4, 7, 1],[3, 4, 8],[9, 5, 6]])"
      ],
      "metadata": {
        "id": "3QdiV4tcCBUN"
      },
      "execution_count": null,
      "outputs": []
    },
    {
      "cell_type": "markdown",
      "source": [
        "La suma se realiza con en operador +."
      ],
      "metadata": {
        "id": "vhjJXU3XCCpE"
      }
    },
    {
      "cell_type": "code",
      "source": [
        "A + B"
      ],
      "metadata": {
        "colab": {
          "base_uri": "https://localhost:8080/",
          "height": 245
        },
        "id": "a-avvWCPBtEi",
        "outputId": "4406222a-1aa0-4cef-e80b-0ba1316c8e9c"
      },
      "execution_count": null,
      "outputs": [
        {
          "output_type": "error",
          "ename": "NameError",
          "evalue": "name 'A' is not defined",
          "traceback": [
            "\u001b[0;31m---------------------------------------------------------------------------\u001b[0m",
            "\u001b[0;31mNameError\u001b[0m                                 Traceback (most recent call last)",
            "\u001b[0;32m<ipython-input-4-151064de832d>\u001b[0m in \u001b[0;36m<cell line: 1>\u001b[0;34m()\u001b[0m\n\u001b[0;32m----> 1\u001b[0;31m \u001b[0mA\u001b[0m \u001b[0;34m+\u001b[0m \u001b[0mB\u001b[0m\u001b[0;34m\u001b[0m\u001b[0;34m\u001b[0m\u001b[0m\n\u001b[0m",
            "\u001b[0;31mNameError\u001b[0m: name 'A' is not defined"
          ]
        }
      ]
    },
    {
      "cell_type": "markdown",
      "source": [
        "En el caso de la multiplicación entre matrices **NO** se utiliza el operador ```*```. El mismo lo que efectúa es una multiplicación entre **```ndarray``` no entre matrices** por lo que resultará en $c_ij = a_{ij}*b_{ij}$.\n",
        "\n",
        "Para multiplicar matrices se utiliza la función ```np.matmul``` o el operador especial ```@``` de la siguiente forma:"
      ],
      "metadata": {
        "id": "nW_V2DVlChG6"
      }
    },
    {
      "cell_type": "code",
      "source": [
        "print('Multiplicación entre ndarrays:\\n', A * B)\n",
        "print('Multiplicación entre matrices:\\n', A @ B)\n",
        "print('O también\\n', np.matmul(A, B))"
      ],
      "metadata": {
        "colab": {
          "base_uri": "https://localhost:8080/",
          "height": 332
        },
        "id": "VkKiIoJqDfcA",
        "outputId": "ec7098f8-8b3c-43f1-a7f8-e268a7b336be"
      },
      "execution_count": null,
      "outputs": [
        {
          "output_type": "error",
          "ename": "NameError",
          "evalue": "name 'A' is not defined",
          "traceback": [
            "\u001b[0;31m---------------------------------------------------------------------------\u001b[0m",
            "\u001b[0;31mNameError\u001b[0m                                 Traceback (most recent call last)",
            "\u001b[0;32m<ipython-input-5-32ca1739b814>\u001b[0m in \u001b[0;36m<cell line: 1>\u001b[0;34m()\u001b[0m\n\u001b[0;32m----> 1\u001b[0;31m \u001b[0mprint\u001b[0m\u001b[0;34m(\u001b[0m\u001b[0;34m'Multiplicación entre ndarrays:\\n'\u001b[0m\u001b[0;34m,\u001b[0m \u001b[0mA\u001b[0m \u001b[0;34m*\u001b[0m \u001b[0mB\u001b[0m\u001b[0;34m)\u001b[0m\u001b[0;34m\u001b[0m\u001b[0;34m\u001b[0m\u001b[0m\n\u001b[0m\u001b[1;32m      2\u001b[0m \u001b[0mprint\u001b[0m\u001b[0;34m(\u001b[0m\u001b[0;34m'Multiplicación entre matrices:\\n'\u001b[0m\u001b[0;34m,\u001b[0m \u001b[0mA\u001b[0m \u001b[0;34m@\u001b[0m \u001b[0mB\u001b[0m\u001b[0;34m)\u001b[0m\u001b[0;34m\u001b[0m\u001b[0;34m\u001b[0m\u001b[0m\n\u001b[1;32m      3\u001b[0m \u001b[0mprint\u001b[0m\u001b[0;34m(\u001b[0m\u001b[0;34m'O también\\n'\u001b[0m\u001b[0;34m,\u001b[0m \u001b[0mnp\u001b[0m\u001b[0;34m.\u001b[0m\u001b[0mmatmul\u001b[0m\u001b[0;34m(\u001b[0m\u001b[0mA\u001b[0m\u001b[0;34m,\u001b[0m \u001b[0mB\u001b[0m\u001b[0;34m)\u001b[0m\u001b[0;34m)\u001b[0m\u001b[0;34m\u001b[0m\u001b[0;34m\u001b[0m\u001b[0m\n",
            "\u001b[0;31mNameError\u001b[0m: name 'A' is not defined"
          ]
        }
      ]
    },
    {
      "cell_type": "markdown",
      "source": [
        "Pero además la multiplicación se pudiera expresar directamente como un producto interno usando la función ```np.dot``` de la cual hablaremos seguidamente."
      ],
      "metadata": {
        "id": "qpPzyJrqEBXe"
      }
    },
    {
      "cell_type": "markdown",
      "source": [
        "Sean las siguientes matrices A y B representadas en ```ndarrays```:"
      ],
      "metadata": {
        "id": "HxPMZLiZoTin"
      }
    },
    {
      "cell_type": "code",
      "source": [
        "A = np.arange(1, 7).reshape(2, 3)\n",
        "A"
      ],
      "metadata": {
        "colab": {
          "base_uri": "https://localhost:8080/"
        },
        "id": "Fo9jQdVwWqcZ",
        "outputId": "08bd4f37-9f45-4324-c7a6-0ce17b2c1d66"
      },
      "execution_count": null,
      "outputs": [
        {
          "output_type": "execute_result",
          "data": {
            "text/plain": [
              "array([[1, 2, 3],\n",
              "       [4, 5, 6]])"
            ]
          },
          "metadata": {},
          "execution_count": 6
        }
      ]
    },
    {
      "cell_type": "code",
      "source": [
        "B = np.arange(1, 7).reshape(3, 2)\n",
        "B"
      ],
      "metadata": {
        "colab": {
          "base_uri": "https://localhost:8080/"
        },
        "id": "WWS_WjfuXL-c",
        "outputId": "148164cf-a77a-4fa7-b8af-66021cb4bc2e"
      },
      "execution_count": null,
      "outputs": [
        {
          "output_type": "execute_result",
          "data": {
            "text/plain": [
              "array([[1, 2],\n",
              "       [3, 4],\n",
              "       [5, 6]])"
            ]
          },
          "metadata": {},
          "execution_count": 7
        }
      ]
    },
    {
      "cell_type": "markdown",
      "source": [
        "El producto **dot** entre dos matrices $A_{M \\times P}$ y $B_{P \\times N}$ se define como $(A \\bullet B)_{M \\times N} = \\sum_{r=1}^P a_{ir} b_{rj}$. Para ello se utiliza la función ```numpy.dot```."
      ],
      "metadata": {
        "id": "hVcSinfiXWl2"
      }
    },
    {
      "cell_type": "code",
      "source": [
        "np.dot(A, B)"
      ],
      "metadata": {
        "colab": {
          "base_uri": "https://localhost:8080/"
        },
        "id": "cu4r9wVSY_qB",
        "outputId": "4169210e-afcc-499b-e22f-bbc43143cd85"
      },
      "execution_count": null,
      "outputs": [
        {
          "output_type": "execute_result",
          "data": {
            "text/plain": [
              "array([[22, 28],\n",
              "       [49, 64]])"
            ]
          },
          "metadata": {},
          "execution_count": 8
        }
      ]
    },
    {
      "cell_type": "code",
      "source": [
        "np.dot(B, A)"
      ],
      "metadata": {
        "colab": {
          "base_uri": "https://localhost:8080/"
        },
        "id": "PUlwJxPeZJ4U",
        "outputId": "d91a80d8-0e70-4388-9c8c-090c065552cd"
      },
      "execution_count": null,
      "outputs": [
        {
          "output_type": "execute_result",
          "data": {
            "text/plain": [
              "array([[ 9, 12, 15],\n",
              "       [19, 26, 33],\n",
              "       [29, 40, 51]])"
            ]
          },
          "metadata": {},
          "execution_count": 9
        }
      ]
    },
    {
      "cell_type": "markdown",
      "source": [
        "En el caso del producto **dot** entre una matriz y un vector $A_{M \\times N} \\bullet \\vec{v}_{N} = \\sum_{r=1}^N a_{ir} \\vec{v}_r, \\, ∀ i = 1, \\dots, M$ se puede implementar de la siguiente forma:"
      ],
      "metadata": {
        "id": "zZECBp-HZTpL"
      }
    },
    {
      "cell_type": "code",
      "source": [
        "v = np.arange(3)\n",
        "v"
      ],
      "metadata": {
        "colab": {
          "base_uri": "https://localhost:8080/"
        },
        "id": "dMkckaIXciiu",
        "outputId": "7e936021-28bf-4579-9892-ff358a869057"
      },
      "execution_count": null,
      "outputs": [
        {
          "output_type": "execute_result",
          "data": {
            "text/plain": [
              "array([0, 1, 2])"
            ]
          },
          "metadata": {},
          "execution_count": 10
        }
      ]
    },
    {
      "cell_type": "code",
      "source": [
        "np.dot(A, v)"
      ],
      "metadata": {
        "colab": {
          "base_uri": "https://localhost:8080/"
        },
        "id": "7cNKvBUVcY1l",
        "outputId": "e06632a0-2587-44ca-ac04-d1e661a01079"
      },
      "execution_count": null,
      "outputs": [
        {
          "output_type": "execute_result",
          "data": {
            "text/plain": [
              "array([ 8, 17])"
            ]
          },
          "metadata": {},
          "execution_count": 11
        }
      ]
    },
    {
      "cell_type": "markdown",
      "source": [
        "También la función ```numpy.dot``` pudiera ser llamada desde la propia instancia del objeto ```ndarray``` de la siguiente forma:"
      ],
      "metadata": {
        "id": "8t82o7shdwMA"
      }
    },
    {
      "cell_type": "code",
      "source": [
        "A.dot(v)"
      ],
      "metadata": {
        "colab": {
          "base_uri": "https://localhost:8080/"
        },
        "id": "DLm-4zkheB09",
        "outputId": "112d1468-833f-48b7-d7bf-d186be604555"
      },
      "execution_count": null,
      "outputs": [
        {
          "output_type": "execute_result",
          "data": {
            "text/plain": [
              "array([ 8, 17])"
            ]
          },
          "metadata": {},
          "execution_count": 12
        }
      ]
    },
    {
      "cell_type": "markdown",
      "source": [
        "La función ```numpy.inner``` no es más que la implementación del producto interno entre dos vetores. Esta función está implícita en la función ```numpy.dot```."
      ],
      "metadata": {
        "id": "6E8HoejRhJzP"
      }
    },
    {
      "cell_type": "code",
      "source": [
        "u = np.flip(v)\n",
        "print(u)\n",
        "np.inner(v, u)"
      ],
      "metadata": {
        "colab": {
          "base_uri": "https://localhost:8080/"
        },
        "id": "WKDSGJ9ff12E",
        "outputId": "1cb0dfaa-9065-4cfe-d85c-686d5b5ed419"
      },
      "execution_count": null,
      "outputs": [
        {
          "output_type": "stream",
          "name": "stdout",
          "text": [
            "[2 1 0]\n"
          ]
        },
        {
          "output_type": "execute_result",
          "data": {
            "text/plain": [
              "1"
            ]
          },
          "metadata": {},
          "execution_count": 13
        }
      ]
    },
    {
      "cell_type": "markdown",
      "source": [
        "El **producto externo** entre dos vectores se define como $x_{M} \\bigotimes y_{N} = C_{M\\times N}$ tal que $c_{i, j} = x_{i} * y_{j}, \\, i=1, \\dots, M; j=1, \\dots, N$."
      ],
      "metadata": {
        "id": "fEp57AdciGCO"
      }
    },
    {
      "cell_type": "code",
      "source": [
        "x = np.array([1, 2])\n",
        "y = np.array([3, 2])\n",
        "\n",
        "np.outer(x, y)"
      ],
      "metadata": {
        "colab": {
          "base_uri": "https://localhost:8080/"
        },
        "id": "agI7NUzHjxSd",
        "outputId": "e912ca96-d296-48f4-cd23-4846e42bf4ac"
      },
      "execution_count": null,
      "outputs": [
        {
          "output_type": "execute_result",
          "data": {
            "text/plain": [
              "array([[3, 2],\n",
              "       [6, 4]])"
            ]
          },
          "metadata": {},
          "execution_count": 14
        }
      ]
    },
    {
      "cell_type": "markdown",
      "source": [
        "El [producto de kronecker](https://es.wikipedia.org/wiki/Producto_de_Kronecker) entre dos matrices se obtiene a través de la funció ```numpy.kron``` y retorna como resultado una matriz de bloques como sigue:"
      ],
      "metadata": {
        "id": "lsK6hAEtlPzF"
      }
    },
    {
      "cell_type": "code",
      "source": [
        "# Matriz de discretización del operador diferencial de la ecuación de Laplace\n",
        "A = np.array([[4, 1], [1, 4]])\n",
        "# Matriz identidad\n",
        "I = np.eye(A.shape[0] * 3)\n",
        "\n",
        "# Producto Kronecker\n",
        "print('Matriz A\\n', A)\n",
        "print('Matriz I\\n', I)\n",
        "print('Producto Kronecker $I \\\\bigotimes A$\\n', np.kron(I, A))"
      ],
      "metadata": {
        "colab": {
          "base_uri": "https://localhost:8080/"
        },
        "id": "IVxflV1vl2Ht",
        "outputId": "dd7640d2-4fee-4d27-a13a-431793d2ba9e"
      },
      "execution_count": null,
      "outputs": [
        {
          "output_type": "stream",
          "name": "stdout",
          "text": [
            "Matriz A\n",
            " [[4 1]\n",
            " [1 4]]\n",
            "Matriz I\n",
            " [[1. 0. 0. 0. 0. 0.]\n",
            " [0. 1. 0. 0. 0. 0.]\n",
            " [0. 0. 1. 0. 0. 0.]\n",
            " [0. 0. 0. 1. 0. 0.]\n",
            " [0. 0. 0. 0. 1. 0.]\n",
            " [0. 0. 0. 0. 0. 1.]]\n",
            "Producto Kronecker $I \\bigotimes A$\n",
            " [[4. 1. 0. 0. 0. 0. 0. 0. 0. 0. 0. 0.]\n",
            " [1. 4. 0. 0. 0. 0. 0. 0. 0. 0. 0. 0.]\n",
            " [0. 0. 4. 1. 0. 0. 0. 0. 0. 0. 0. 0.]\n",
            " [0. 0. 1. 4. 0. 0. 0. 0. 0. 0. 0. 0.]\n",
            " [0. 0. 0. 0. 4. 1. 0. 0. 0. 0. 0. 0.]\n",
            " [0. 0. 0. 0. 1. 4. 0. 0. 0. 0. 0. 0.]\n",
            " [0. 0. 0. 0. 0. 0. 4. 1. 0. 0. 0. 0.]\n",
            " [0. 0. 0. 0. 0. 0. 1. 4. 0. 0. 0. 0.]\n",
            " [0. 0. 0. 0. 0. 0. 0. 0. 4. 1. 0. 0.]\n",
            " [0. 0. 0. 0. 0. 0. 0. 0. 1. 4. 0. 0.]\n",
            " [0. 0. 0. 0. 0. 0. 0. 0. 0. 0. 4. 1.]\n",
            " [0. 0. 0. 0. 0. 0. 0. 0. 0. 0. 1. 4.]]\n"
          ]
        }
      ]
    },
    {
      "cell_type": "markdown",
      "source": [
        "Para calcular la inversa de una matriz se puede utilizar la función ```inv``` que está implementada tanto en ```numpy.linalg.inv``` como en ```scipy.linalg.inv```."
      ],
      "metadata": {
        "id": "30qnMLNJh0mG"
      }
    },
    {
      "cell_type": "code",
      "source": [
        "A = np.array([[1, -1], [2, 4]])\n",
        "Ap = np.linalg.inv(A)\n",
        "print('A=\\n', A)\n",
        "print(\"A' A=\\n\", np.dot(Ap, A))\n",
        "print(\"A' A ~=\\n\", np.rint(np.dot(Ap, A)))"
      ],
      "metadata": {
        "colab": {
          "base_uri": "https://localhost:8080/"
        },
        "id": "4GF7fI87iLeI",
        "outputId": "9427fe5b-34ba-454d-9629-b4065bea9faa"
      },
      "execution_count": null,
      "outputs": [
        {
          "output_type": "stream",
          "name": "stdout",
          "text": [
            "A=\n",
            " [[ 1 -1]\n",
            " [ 2  4]]\n",
            "A' A=\n",
            " [[1.00000000e+00 1.11022302e-16]\n",
            " [0.00000000e+00 1.00000000e+00]]\n",
            "A' A ~=\n",
            " [[1. 0.]\n",
            " [0. 1.]]\n"
          ]
        }
      ]
    },
    {
      "cell_type": "code",
      "source": [
        "Ap = la.inv(A)\n",
        "print(\"A' A ~=\\n\", np.rint(np.dot(Ap, A)))"
      ],
      "metadata": {
        "colab": {
          "base_uri": "https://localhost:8080/"
        },
        "id": "keOLXN5Li1TR",
        "outputId": "875eec8c-f400-42ad-8b84-e3719728e0c0"
      },
      "execution_count": null,
      "outputs": [
        {
          "output_type": "stream",
          "name": "stdout",
          "text": [
            "A' A ~=\n",
            " [[1. 0.]\n",
            " [0. 1.]]\n"
          ]
        }
      ]
    },
    {
      "cell_type": "markdown",
      "source": [
        "Veamos el siguiente **ejemplo**:\n",
        "\n",
        "Supongamos que tenemos $A_{M \\times N}$, $\\Lambda_{M \\times N}$ y $B_{M \\times N}$\n"
      ],
      "metadata": {
        "id": "Vwgtf0_yOcCV"
      }
    },
    {
      "cell_type": "code",
      "source": [
        "A = np.array([[1, -1], [2, 4]])\n",
        "B = np.array([[-0.5, 1./3.], [0.5, -2./3.]])\n",
        "L = np.diag([2., 3.])\n",
        "\n",
        "print('A=\\n', A)\n",
        "print('B=\\n', np.round(B, 1))\n",
        "print('L=\\n', L)"
      ],
      "metadata": {
        "colab": {
          "base_uri": "https://localhost:8080/"
        },
        "id": "59Mdqf2JPZfh",
        "outputId": "02547fa4-d82c-4eae-afb7-e7e5dcd7876f"
      },
      "execution_count": null,
      "outputs": [
        {
          "output_type": "stream",
          "name": "stdout",
          "text": [
            "A=\n",
            " [[ 1 -1]\n",
            " [ 2  4]]\n",
            "B=\n",
            " [[-0.5  0.3]\n",
            " [ 0.5 -0.7]]\n",
            "L=\n",
            " [[2. 0.]\n",
            " [0. 3.]]\n"
          ]
        }
      ]
    },
    {
      "cell_type": "markdown",
      "source": [
        "y se desea realizar la siguiente operación:\n",
        "\n",
        "$B \\Lambda B^{-1} = A$\n",
        "\n",
        "¿Cómo se pudiera realizar en una sola línea de código?\n"
      ],
      "metadata": {
        "id": "ucL41zhgPaqH"
      }
    },
    {
      "cell_type": "code",
      "source": [
        "print(\"B L B' = A =\\n\", np.matmul(B, np.matmul(L, la.inv(B))))"
      ],
      "metadata": {
        "colab": {
          "base_uri": "https://localhost:8080/"
        },
        "id": "mBtD3-PAPLin",
        "outputId": "a344dd53-eeb3-4977-8227-4e7bbd0d4456"
      },
      "execution_count": null,
      "outputs": [
        {
          "output_type": "stream",
          "name": "stdout",
          "text": [
            "B L B' = A =\n",
            " [[ 1. -1.]\n",
            " [ 2.  4.]]\n"
          ]
        }
      ]
    },
    {
      "cell_type": "markdown",
      "source": [
        "O utilizando el producto **dot** se puede plantear"
      ],
      "metadata": {
        "id": "LjTHxmDshLYV"
      }
    },
    {
      "cell_type": "code",
      "source": [
        "print(\"B L B' = A =\\n\", np.dot(B, np.dot(L, la.inv(B))))"
      ],
      "metadata": {
        "colab": {
          "base_uri": "https://localhost:8080/"
        },
        "id": "iVZG1x9thVXy",
        "outputId": "381e40aa-28cf-4894-8e3f-5b222092d2a2"
      },
      "execution_count": null,
      "outputs": [
        {
          "output_type": "stream",
          "name": "stdout",
          "text": [
            "B L B' = A =\n",
            " [[ 1. -1.]\n",
            " [ 2.  4.]]\n"
          ]
        }
      ]
    },
    {
      "cell_type": "markdown",
      "source": [
        "O utilizamos el símbolo ```@```:"
      ],
      "metadata": {
        "id": "3LAMJ9JcFGer"
      }
    },
    {
      "cell_type": "code",
      "source": [
        "print(\"B L B' = A =\\n\", B @ L @ la.inv(B))"
      ],
      "metadata": {
        "colab": {
          "base_uri": "https://localhost:8080/"
        },
        "id": "-G77oMnkFLoE",
        "outputId": "3b3ea764-b1be-4489-c305-af3404be2310"
      },
      "execution_count": null,
      "outputs": [
        {
          "output_type": "stream",
          "name": "stdout",
          "text": [
            "B L B' = A =\n",
            " [[ 1. -1.]\n",
            " [ 2.  4.]]\n"
          ]
        }
      ]
    },
    {
      "cell_type": "markdown",
      "source": [
        "### El tipo Matrix"
      ],
      "metadata": {
        "id": "Ix7PQ1LokYVd"
      }
    },
    {
      "cell_type": "markdown",
      "source": [
        "Las operaciones que realizamos en la sección anterior son todavía un poco extensas porque son en realidad operaciones entre ndArrays. Por tal motivo, en el módulo ```numpy``` existe una clase llamda ```matrix``` la cual encapsula las propiedades y comportamientos de una matriz."
      ],
      "metadata": {
        "id": "J-7HqKg8kcEW"
      }
    },
    {
      "cell_type": "markdown",
      "source": [
        "Con esta clase es posible hacer operaciones como estas:"
      ],
      "metadata": {
        "id": "LBqLAMZ6lH7E"
      }
    },
    {
      "cell_type": "code",
      "source": [
        "A_ = np.matrix(A)\n",
        "B_ = np.matrix(B)\n",
        "L_ = np.matrix(L)\n",
        "\n",
        "Ap_ = B_ * L_ * B_.I\n",
        "\n",
        "print(Ap_)"
      ],
      "metadata": {
        "colab": {
          "base_uri": "https://localhost:8080/"
        },
        "id": "2ruusXMolN3c",
        "outputId": "c9dbe5fb-4649-4c88-e76a-6f3b595b27e9"
      },
      "execution_count": null,
      "outputs": [
        {
          "output_type": "stream",
          "name": "stdout",
          "text": [
            "[[ 1. -1.]\n",
            " [ 2.  4.]]\n"
          ]
        }
      ]
    },
    {
      "cell_type": "markdown",
      "source": [
        "de donde ```B.I``` calcula directamente la inversa de la matriz ```B```."
      ],
      "metadata": {
        "id": "k5UWimBZx-kR"
      }
    },
    {
      "cell_type": "markdown",
      "source": [
        "También es posible hacer la transformación de la siguiente forma:"
      ],
      "metadata": {
        "id": "wuE1IxNByHsN"
      }
    },
    {
      "cell_type": "code",
      "source": [
        "A_ = np.asmatrix(A)\n",
        "print('Tipo de A_:', type(A_))\n",
        "print('Tipo de A:', type(A))"
      ],
      "metadata": {
        "colab": {
          "base_uri": "https://localhost:8080/"
        },
        "id": "5julFCK7yPRZ",
        "outputId": "de21a771-8917-4594-bb32-0f7de1aea5bf"
      },
      "execution_count": null,
      "outputs": [
        {
          "output_type": "stream",
          "name": "stdout",
          "text": [
            "Tipo de A_: <class 'numpy.matrix'>\n",
            "Tipo de A: <class 'numpy.ndarray'>\n"
          ]
        }
      ]
    },
    {
      "cell_type": "markdown",
      "source": [
        "Y de igual manera se puede transformar de una ```matrix``` a un ```ndarray```."
      ],
      "metadata": {
        "id": "tQKBeEdDzL_s"
      }
    },
    {
      "cell_type": "code",
      "source": [
        "Ap = np.asarray(Ap_)\n",
        "print(Ap)\n",
        "print('Tipo de Ap:', type(Ap))"
      ],
      "metadata": {
        "colab": {
          "base_uri": "https://localhost:8080/"
        },
        "id": "2Krk1tZzzTp8",
        "outputId": "941c1871-6497-45cc-97e6-6e265c77c9fc"
      },
      "execution_count": null,
      "outputs": [
        {
          "output_type": "stream",
          "name": "stdout",
          "text": [
            "[[ 1. -1.]\n",
            " [ 2.  4.]]\n",
            "Tipo de Ap: <class 'numpy.ndarray'>\n"
          ]
        }
      ]
    },
    {
      "cell_type": "markdown",
      "source": [
        "## Sistemas de ecuaciones"
      ],
      "metadata": {
        "id": "bfsUBiXzkEQZ"
      }
    },
    {
      "cell_type": "markdown",
      "source": [
        "### Sistemas de ecuaciones cuadrados\n",
        "\n",
        "La resolución del problema:\n",
        "\n",
        "$A x = b$.\n",
        "\n"
      ],
      "metadata": {
        "id": "j-VzlRfvkHxT"
      }
    },
    {
      "cell_type": "markdown",
      "source": [
        "### El módulo sympy\n",
        "Este módulo de python permite hacer cálculo simbólico lo cual es útil en muchos de los escenarios. Veremos algunos de sus usos en el álgebra lineal y concretamente en la resolución de sistemas de ecuaciones cuadrados."
      ],
      "metadata": {
        "id": "m4c4dWjkz5XA"
      }
    },
    {
      "cell_type": "code",
      "source": [
        "import sympy\n",
        "sympy.init_printing()  # Para imprimir los resultados de forma más estética"
      ],
      "metadata": {
        "id": "mlOGF7M30b3w"
      },
      "execution_count": null,
      "outputs": []
    },
    {
      "cell_type": "markdown",
      "source": [
        "Creemos la matriz $\\begin{bmatrix}\n",
        "2 & 3\\\\\n",
        "5 & 4\n",
        "\\end{bmatrix}$ utilizando el módulo sympy"
      ],
      "metadata": {
        "id": "-orbKTjl07Ec"
      }
    },
    {
      "cell_type": "code",
      "source": [
        "A = sympy.Matrix([[2, 3], [5, 4]])\n",
        "print('A=\\n', A)\n",
        "print('Tipo de A:', type(A))"
      ],
      "metadata": {
        "colab": {
          "base_uri": "https://localhost:8080/"
        },
        "id": "_DNqFS381MjV",
        "outputId": "f492f32c-a3cc-47a3-cca0-7f523c0988d3"
      },
      "execution_count": null,
      "outputs": [
        {
          "output_type": "stream",
          "name": "stdout",
          "text": [
            "A=\n",
            " Matrix([[2, 3], [5, 4]])\n",
            "Tipo de A: <class 'sympy.matrices.dense.MutableDenseMatrix'>\n"
          ]
        }
      ]
    },
    {
      "cell_type": "code",
      "source": [
        "A"
      ],
      "metadata": {
        "colab": {
          "base_uri": "https://localhost:8080/",
          "height": 58
        },
        "id": "3iIPbH0r1gc5",
        "outputId": "4ca79b92-cf35-4541-c679-dd2fe4422c9f"
      },
      "execution_count": null,
      "outputs": [
        {
          "output_type": "execute_result",
          "data": {
            "text/plain": [
              "⎡2  3⎤\n",
              "⎢    ⎥\n",
              "⎣5  4⎦"
            ],
            "text/latex": "$\\displaystyle \\left[\\begin{matrix}2 & 3\\\\5 & 4\\end{matrix}\\right]$"
          },
          "metadata": {},
          "execution_count": 5
        }
      ]
    },
    {
      "cell_type": "markdown",
      "source": [
        "El **rango de una matriz** A indica la cantidad de vectores fila o columna linealmente independiente que forman parte de la matriz.\n",
        "\n",
        "Si el rango no coincide con la dimensión de la matriz cuadrada A entonces se dice que tiene rango deficiente y la solución del sistema ya no será única en caso de tener."
      ],
      "metadata": {
        "id": "9fzbxPic1pxu"
      }
    },
    {
      "cell_type": "code",
      "source": [
        "A.rank()"
      ],
      "metadata": {
        "colab": {
          "base_uri": "https://localhost:8080/",
          "height": 37
        },
        "id": "uZsGsbaq2BAy",
        "outputId": "e01ba6e9-bc66-4c49-8c20-3defe35db401"
      },
      "execution_count": null,
      "outputs": [
        {
          "output_type": "execute_result",
          "data": {
            "text/plain": [
              "2"
            ],
            "text/latex": "$\\displaystyle 2$"
          },
          "metadata": {},
          "execution_count": 6
        }
      ]
    },
    {
      "cell_type": "markdown",
      "source": [
        "Por otra parte, la **condición de la matriz** permite saber si el problema es bien-planteado o no y así decidir cuáles son los mejores métodos a utilizar para su resolución.\n",
        "\n",
        "$cond(a) ≡ ||A^{-1}||\\bullet ||A||$."
      ],
      "metadata": {
        "id": "xhLHWiZ92VYj"
      }
    },
    {
      "cell_type": "code",
      "source": [
        "A.condition_number()"
      ],
      "metadata": {
        "colab": {
          "base_uri": "https://localhost:8080/",
          "height": 66
        },
        "id": "B7uiPNK43A9s",
        "outputId": "8799e518-9aa0-4f3e-8c7c-29a4803e2a08"
      },
      "execution_count": null,
      "outputs": [
        {
          "output_type": "execute_result",
          "data": {
            "text/plain": [
              "  _____________\n",
              "╲╱ 2⋅√170 + 27 \n",
              "───────────────\n",
              "  _____________\n",
              "╲╱ 27 - 2⋅√170 "
            ],
            "text/latex": "$\\displaystyle \\frac{\\sqrt{2 \\sqrt{170} + 27}}{\\sqrt{27 - 2 \\sqrt{170}}}$"
          },
          "metadata": {},
          "execution_count": 7
        }
      ]
    },
    {
      "cell_type": "markdown",
      "source": [
        "Claro que el número de condición anterior está dado de forma simbólica porque así es calculado por ```sympy```. Para evaluarlo se usa"
      ],
      "metadata": {
        "id": "13R5d1R33H7n"
      }
    },
    {
      "cell_type": "code",
      "source": [
        "sympy.N(A.condition_number())"
      ],
      "metadata": {
        "colab": {
          "base_uri": "https://localhost:8080/",
          "height": 37
        },
        "id": "DpIi4v_c3V9q",
        "outputId": "232e3050-bca4-49e6-9488-2065e36276a8"
      },
      "execution_count": null,
      "outputs": [
        {
          "output_type": "execute_result",
          "data": {
            "text/plain": [
              "7.58240137440151"
            ],
            "text/latex": "$\\displaystyle 7.58240137440151$"
          },
          "metadata": {},
          "execution_count": 29
        }
      ]
    },
    {
      "cell_type": "markdown",
      "source": [
        "Si hablamos de la norma que ```sympy``` implementa por defecto es la norma de Frobenius\n",
        "\n",
        "$||A||_{F} = \\sqrt{\\sum_{i,j} |a_{ij}|^2 }$."
      ],
      "metadata": {
        "id": "Pa71tCGU3gR4"
      }
    },
    {
      "cell_type": "code",
      "source": [
        "A.norm()"
      ],
      "metadata": {
        "colab": {
          "base_uri": "https://localhost:8080/",
          "height": 39
        },
        "id": "uo9U0Ehk4Mxv",
        "outputId": "c18021f3-13e2-4b35-b49b-d596d1d1c880"
      },
      "execution_count": null,
      "outputs": [
        {
          "output_type": "execute_result",
          "data": {
            "text/plain": [
              "3⋅√6"
            ],
            "text/latex": "$\\displaystyle 3 \\sqrt{6}$"
          },
          "metadata": {},
          "execution_count": 30
        }
      ]
    },
    {
      "cell_type": "markdown",
      "source": [
        "Para calcular otras normas usar el parámetro ```ord```:"
      ],
      "metadata": {
        "id": "uhXngGlY4uC8"
      }
    },
    {
      "cell_type": "code",
      "source": [
        "sympy.N(A.norm(2))"
      ],
      "metadata": {
        "colab": {
          "base_uri": "https://localhost:8080/",
          "height": 37
        },
        "id": "KIslWJxW4Rlq",
        "outputId": "1f22bc30-11f0-490e-8f04-e46f16d2099c"
      },
      "execution_count": null,
      "outputs": [
        {
          "output_type": "execute_result",
          "data": {
            "text/plain": [
              "7.28538328578604"
            ],
            "text/latex": "$\\displaystyle 7.28538328578604$"
          },
          "metadata": {},
          "execution_count": 31
        }
      ]
    },
    {
      "cell_type": "markdown",
      "source": [
        "Tambien permite el cálculo de determinante"
      ],
      "metadata": {
        "id": "miPZuM0p5OBG"
      }
    },
    {
      "cell_type": "code",
      "source": [
        "sympy.det(A)"
      ],
      "metadata": {
        "colab": {
          "base_uri": "https://localhost:8080/",
          "height": 37
        },
        "id": "-CYWbHac42NP",
        "outputId": "8bb9cf52-b21f-49ea-cc5d-a113cf033cf6"
      },
      "execution_count": null,
      "outputs": [
        {
          "output_type": "execute_result",
          "data": {
            "text/plain": [
              "-7"
            ],
            "text/latex": "$\\displaystyle -7$"
          },
          "metadata": {},
          "execution_count": 32
        }
      ]
    },
    {
      "cell_type": "code",
      "source": [
        "A.det()"
      ],
      "metadata": {
        "colab": {
          "base_uri": "https://localhost:8080/",
          "height": 37
        },
        "id": "N2IWxqHWH39x",
        "outputId": "23aa2288-4c09-46c6-fe97-c38ceaf0fdae"
      },
      "execution_count": null,
      "outputs": [
        {
          "output_type": "execute_result",
          "data": {
            "text/plain": [
              "-7"
            ],
            "text/latex": "$\\displaystyle -7$"
          },
          "metadata": {},
          "execution_count": 33
        }
      ]
    },
    {
      "cell_type": "markdown",
      "source": [
        "También es muy útil la función ```sympy.nullspace``` la cual devuelve el espacio nulo de la matriz:\n",
        "\n",
        "El espacio no trivial en el cual $∀ x : A x = \\vec{0}$."
      ],
      "metadata": {
        "id": "ndu2PZKH6y3f"
      }
    },
    {
      "cell_type": "code",
      "source": [
        "A = sympy.Matrix(np.array([[1, -1], [2, 4]]))\n",
        "A"
      ],
      "metadata": {
        "colab": {
          "base_uri": "https://localhost:8080/",
          "height": 58
        },
        "id": "DGr-BRAF5ixM",
        "outputId": "90cfded9-2554-4e1e-9a55-987b46dc149d"
      },
      "execution_count": null,
      "outputs": [
        {
          "output_type": "execute_result",
          "data": {
            "text/plain": [
              "⎡1  -1⎤\n",
              "⎢     ⎥\n",
              "⎣2  4 ⎦"
            ],
            "text/latex": "$\\displaystyle \\left[\\begin{matrix}1 & -1\\\\2 & 4\\end{matrix}\\right]$"
          },
          "metadata": {},
          "execution_count": 34
        }
      ]
    },
    {
      "cell_type": "markdown",
      "source": [
        "Calcular $(A - 2 I) x = \\vec{0}$"
      ],
      "metadata": {
        "id": "rGMqBktl7v7K"
      }
    },
    {
      "cell_type": "code",
      "source": [
        "M = A - sympy.Matrix(np.diag([2., 2.]))\n",
        "M"
      ],
      "metadata": {
        "colab": {
          "base_uri": "https://localhost:8080/",
          "height": 58
        },
        "id": "ORuoFJkG8U91",
        "outputId": "5321ac9c-12d2-4cda-8b83-8dbef54e5bb6"
      },
      "execution_count": null,
      "outputs": [
        {
          "output_type": "execute_result",
          "data": {
            "text/plain": [
              "⎡-1.0  -1 ⎤\n",
              "⎢         ⎥\n",
              "⎣ 2    2.0⎦"
            ],
            "text/latex": "$\\displaystyle \\left[\\begin{matrix}-1.0 & -1\\\\2 & 2.0\\end{matrix}\\right]$"
          },
          "metadata": {},
          "execution_count": 35
        }
      ]
    },
    {
      "cell_type": "code",
      "source": [
        "M.nullspace()"
      ],
      "metadata": {
        "colab": {
          "base_uri": "https://localhost:8080/",
          "height": 58
        },
        "id": "ArSfQU-H8Ykn",
        "outputId": "7837d981-2289-4edd-844e-98fa674eb177"
      },
      "execution_count": null,
      "outputs": [
        {
          "output_type": "execute_result",
          "data": {
            "text/plain": [
              "⎡⎡-1.0⎤⎤\n",
              "⎢⎢    ⎥⎥\n",
              "⎣⎣ 1  ⎦⎦"
            ],
            "text/latex": "$\\displaystyle \\left[ \\left[\\begin{matrix}-1.0\\\\1\\end{matrix}\\right]\\right]$"
          },
          "metadata": {},
          "execution_count": 36
        }
      ]
    },
    {
      "cell_type": "markdown",
      "source": [
        "Y también $(A - 3 I) x = \\vec{0}$"
      ],
      "metadata": {
        "id": "766H4kn48Khb"
      }
    },
    {
      "cell_type": "code",
      "source": [
        "M = A - sympy.Matrix(np.diag([3., 3.]))\n",
        "M"
      ],
      "metadata": {
        "colab": {
          "base_uri": "https://localhost:8080/",
          "height": 58
        },
        "id": "zBeg3ANp6JhZ",
        "outputId": "9216eb4d-cb52-4ac1-986b-87dc1312427f"
      },
      "execution_count": null,
      "outputs": [
        {
          "output_type": "execute_result",
          "data": {
            "text/plain": [
              "⎡-2.0  -1 ⎤\n",
              "⎢         ⎥\n",
              "⎣ 2    1.0⎦"
            ],
            "text/latex": "$\\displaystyle \\left[\\begin{matrix}-2.0 & -1\\\\2 & 1.0\\end{matrix}\\right]$"
          },
          "metadata": {},
          "execution_count": 37
        }
      ]
    },
    {
      "cell_type": "code",
      "source": [
        "M.nullspace()"
      ],
      "metadata": {
        "colab": {
          "base_uri": "https://localhost:8080/",
          "height": 58
        },
        "id": "TQqNVCNN6eBc",
        "outputId": "f196f5be-3857-41de-f35d-9fe5cfd556da"
      },
      "execution_count": null,
      "outputs": [
        {
          "output_type": "execute_result",
          "data": {
            "text/plain": [
              "⎡⎡-0.5⎤⎤\n",
              "⎢⎢    ⎥⎥\n",
              "⎣⎣ 1  ⎦⎦"
            ],
            "text/latex": "$\\displaystyle \\left[ \\left[\\begin{matrix}-0.5\\\\1\\end{matrix}\\right]\\right]$"
          },
          "metadata": {},
          "execution_count": 38
        }
      ]
    },
    {
      "cell_type": "markdown",
      "source": [
        "Más adelante veremos que son los valores y vectores propios de $A$."
      ],
      "metadata": {
        "id": "MS_mOc-C8gkF"
      }
    },
    {
      "cell_type": "markdown",
      "source": [
        "#### Descomposiciones de matrices y Cálculo simbólico"
      ],
      "metadata": {
        "id": "CwmwumRi8xIb"
      }
    },
    {
      "cell_type": "markdown",
      "source": [
        "Factorización $A = L U$. Esta descomposición de una matriz $A _{M\\times N}$ está definida como $P A = L U$, donde la $P$ es una matriz de permutaciones, $L$ una matriz triangular inferior (ceros por encima de la diagonal, unos en la diagonal y distinto de cero debajo de la diagonal) y $U$ es una matriz triangular superior (ceros debajo de la diagonal).\n",
        "\n",
        "Estas matrices son calculadas en el prioceso de eliminación de Gauss. La descomposición $L U$ se calcula reduciendo la matriz $A$ a una matriz triangular superior.\n",
        "\n",
        "Veamos como se puede realizar esta descomposición utilizando ```sympy```:"
      ],
      "metadata": {
        "id": "EbVoXwb09IxV"
      }
    },
    {
      "cell_type": "code",
      "source": [
        "A = sympy.Matrix([[3, -1, 1], [3, 6, 2], [3, 3, 7]])\n",
        "A"
      ],
      "metadata": {
        "colab": {
          "base_uri": "https://localhost:8080/",
          "height": 78
        },
        "id": "ZMzusHdh_C-T",
        "outputId": "b2ec0850-1829-4b85-dc4b-9c87ead4adb3"
      },
      "execution_count": null,
      "outputs": [
        {
          "output_type": "execute_result",
          "data": {
            "text/plain": [
              "⎡3  -1  1⎤\n",
              "⎢        ⎥\n",
              "⎢3  6   2⎥\n",
              "⎢        ⎥\n",
              "⎣3  3   7⎦"
            ],
            "text/latex": "$\\displaystyle \\left[\\begin{matrix}3 & -1 & 1\\\\3 & 6 & 2\\\\3 & 3 & 7\\end{matrix}\\right]$"
          },
          "metadata": {},
          "execution_count": 46
        }
      ]
    },
    {
      "cell_type": "code",
      "source": [
        "A.LUdecomposition()"
      ],
      "metadata": {
        "colab": {
          "base_uri": "https://localhost:8080/",
          "height": 141
        },
        "id": "sRSWLsSs_XJ1",
        "outputId": "48b92138-945c-4563-c823-490730e3b371"
      },
      "execution_count": null,
      "outputs": [
        {
          "output_type": "error",
          "ename": "NameError",
          "evalue": "name 'A' is not defined",
          "traceback": [
            "\u001b[0;31m---------------------------------------------------------------------------\u001b[0m",
            "\u001b[0;31mNameError\u001b[0m                                 Traceback (most recent call last)",
            "\u001b[0;32m<ipython-input-1-40d6eae30058>\u001b[0m in \u001b[0;36m<cell line: 1>\u001b[0;34m()\u001b[0m\n\u001b[0;32m----> 1\u001b[0;31m \u001b[0mA\u001b[0m\u001b[0;34m.\u001b[0m\u001b[0mLUdecomposition\u001b[0m\u001b[0;34m(\u001b[0m\u001b[0;34m)\u001b[0m\u001b[0;34m\u001b[0m\u001b[0;34m\u001b[0m\u001b[0m\n\u001b[0m",
            "\u001b[0;31mNameError\u001b[0m: name 'A' is not defined"
          ]
        }
      ]
    },
    {
      "cell_type": "markdown",
      "source": [
        "De esta forma se obtiene $\\left(L, U, P\\right)$. En este caso no fue necesario ning[un intercambio de ecuaciones por lo que la matriz $P$ está vacía."
      ],
      "metadata": {
        "id": "lA4jvp2B_oe0"
      }
    },
    {
      "cell_type": "code",
      "source": [
        "L, U, P = A.LUdecomposition()"
      ],
      "metadata": {
        "id": "PGVbGQD__znf",
        "outputId": "e0c51a60-7b92-4567-9a55-631f029d20fd",
        "colab": {
          "base_uri": "https://localhost:8080/",
          "height": 175
        }
      },
      "execution_count": null,
      "outputs": [
        {
          "output_type": "error",
          "ename": "NameError",
          "evalue": "ignored",
          "traceback": [
            "\u001b[0;31m---------------------------------------------------------------------------\u001b[0m",
            "\u001b[0;31mNameError\u001b[0m                                 Traceback (most recent call last)",
            "\u001b[0;32m<ipython-input-1-2b0acdb16aed>\u001b[0m in \u001b[0;36m<cell line: 1>\u001b[0;34m()\u001b[0m\n\u001b[0;32m----> 1\u001b[0;31m \u001b[0mL\u001b[0m\u001b[0;34m,\u001b[0m \u001b[0mU\u001b[0m\u001b[0;34m,\u001b[0m \u001b[0mP\u001b[0m \u001b[0;34m=\u001b[0m \u001b[0mA\u001b[0m\u001b[0;34m.\u001b[0m\u001b[0mLUdecomposition\u001b[0m\u001b[0;34m(\u001b[0m\u001b[0;34m)\u001b[0m\u001b[0;34m\u001b[0m\u001b[0;34m\u001b[0m\u001b[0m\n\u001b[0m",
            "\u001b[0;31mNameError\u001b[0m: name 'A' is not defined"
          ]
        }
      ]
    },
    {
      "cell_type": "code",
      "source": [
        "L * U"
      ],
      "metadata": {
        "colab": {
          "base_uri": "https://localhost:8080/",
          "height": 78
        },
        "id": "ouTwEfaA_7FN",
        "outputId": "2160ed0c-1ae1-4480-878f-492c40b4b6de"
      },
      "execution_count": null,
      "outputs": [
        {
          "output_type": "execute_result",
          "data": {
            "text/plain": [
              "⎡3  -1  1⎤\n",
              "⎢        ⎥\n",
              "⎢3  6   2⎥\n",
              "⎢        ⎥\n",
              "⎣3  3   7⎦"
            ],
            "text/latex": "$\\displaystyle \\left[\\begin{matrix}3 & -1 & 1\\\\3 & 6 & 2\\\\3 & 3 & 7\\end{matrix}\\right]$"
          },
          "metadata": {},
          "execution_count": 49
        }
      ]
    },
    {
      "cell_type": "markdown",
      "source": [
        "Si lo que se necesita es resolver el sistema entonces se pueden usar las siguientes variantes"
      ],
      "metadata": {
        "id": "X-E6xznbBDZu"
      }
    },
    {
      "cell_type": "code",
      "source": [
        "b = sympy.Matrix([[1], [2], [1]])\n",
        "b"
      ],
      "metadata": {
        "colab": {
          "base_uri": "https://localhost:8080/",
          "height": 78
        },
        "id": "8pUbDD0vBLGC",
        "outputId": "c81fa0c2-4b88-4723-cd52-14dfbc52afa2"
      },
      "execution_count": null,
      "outputs": [
        {
          "output_type": "execute_result",
          "data": {
            "text/plain": [
              "⎡1⎤\n",
              "⎢ ⎥\n",
              "⎢2⎥\n",
              "⎢ ⎥\n",
              "⎣1⎦"
            ],
            "text/latex": "$\\displaystyle \\left[\\begin{matrix}1\\\\2\\\\1\\end{matrix}\\right]$"
          },
          "metadata": {},
          "execution_count": 43
        }
      ]
    },
    {
      "cell_type": "code",
      "source": [
        "A.solve(b)"
      ],
      "metadata": {
        "id": "G4sa2kY3BkXJ"
      },
      "execution_count": null,
      "outputs": []
    },
    {
      "cell_type": "markdown",
      "source": [
        "O lo que sería lo mismo"
      ],
      "metadata": {
        "id": "BLTY221BB7eI"
      }
    },
    {
      "cell_type": "code",
      "source": [
        "A.LUsolve(b)"
      ],
      "metadata": {
        "colab": {
          "base_uri": "https://localhost:8080/",
          "height": 78
        },
        "id": "6NFxiTTGBrio",
        "outputId": "01f00955-c6fb-4c81-dc04-a4706a8433f6"
      },
      "execution_count": null,
      "outputs": [
        {
          "output_type": "execute_result",
          "data": {
            "text/plain": [
              "⎡-1/8⎤\n",
              "⎢    ⎥\n",
              "⎢5/24⎥\n",
              "⎢    ⎥\n",
              "⎣1/12⎦"
            ],
            "text/latex": "$\\displaystyle \\left[\\begin{matrix}- \\frac{1}{8}\\\\\\frac{5}{24}\\\\\\frac{1}{12}\\end{matrix}\\right]$"
          },
          "metadata": {},
          "execution_count": 14
        }
      ]
    },
    {
      "cell_type": "markdown",
      "source": [
        "Evaluando la expresión anterior se obtiene:"
      ],
      "metadata": {
        "id": "pqO5ocg9KU_X"
      }
    },
    {
      "cell_type": "code",
      "source": [
        "sympy.N(_)"
      ],
      "metadata": {
        "colab": {
          "base_uri": "https://localhost:8080/",
          "height": 78
        },
        "id": "kBlKWHrPKMeh",
        "outputId": "d07d63e6-631f-4545-d749-740c63e17b57"
      },
      "execution_count": null,
      "outputs": [
        {
          "output_type": "execute_result",
          "data": {
            "text/plain": [
              "⎡      -0.125      ⎤\n",
              "⎢                  ⎥\n",
              "⎢0.208333333333333 ⎥\n",
              "⎢                  ⎥\n",
              "⎣0.0833333333333333⎦"
            ],
            "text/latex": "$\\displaystyle \\left[\\begin{matrix}-0.125\\\\0.208333333333333\\\\0.0833333333333333\\end{matrix}\\right]$"
          },
          "metadata": {},
          "execution_count": 15
        }
      ]
    },
    {
      "cell_type": "markdown",
      "source": [
        "La factorización $A = L L^T$ es un caso especial de la $A = LU$. En este caso se explota el hecho que la matriz sea real simétrica y definida positiva para aplicar la descomposición de Cholesky.\n",
        "\n",
        "La matriz $L$ sigue siendo la matriz triangular inferior pero en este caso la matriz $U$ es igual a la transpuesta de $L$. También está el caso de que $LDL^T$ donde $D$ es una matriz diagonal."
      ],
      "metadata": {
        "id": "kjO7H7QHCk-U"
      }
    },
    {
      "cell_type": "code",
      "source": [
        "A = sympy.Matrix([[10, 2, 1], [2, 1, -2], [1, -2, 10]])\n",
        "A"
      ],
      "metadata": {
        "colab": {
          "base_uri": "https://localhost:8080/",
          "height": 78
        },
        "id": "O-QvklFqDhl5",
        "outputId": "eff6c346-2818-48b2-8722-bcbf35247200"
      },
      "execution_count": null,
      "outputs": [
        {
          "output_type": "execute_result",
          "data": {
            "text/plain": [
              "⎡10  2   1 ⎤\n",
              "⎢          ⎥\n",
              "⎢2   1   -2⎥\n",
              "⎢          ⎥\n",
              "⎣1   -2  10⎦"
            ],
            "text/latex": "$\\displaystyle \\left[\\begin{matrix}10 & 2 & 1\\\\2 & 1 & -2\\\\1 & -2 & 10\\end{matrix}\\right]$"
          },
          "metadata": {},
          "execution_count": 20
        }
      ]
    },
    {
      "cell_type": "markdown",
      "source": [
        "La matriz A es claramente simétrica. ¿Pero será definida positiva?"
      ],
      "metadata": {
        "id": "TNziJzIyE-EN"
      }
    },
    {
      "cell_type": "markdown",
      "source": [
        "Para saberlo calculemos sus valores propios los cuales son reales y positivos en caso de que la matriz sea definida positiva."
      ],
      "metadata": {
        "id": "L8RCszs-FJhu"
      }
    },
    {
      "cell_type": "code",
      "source": [
        "A.eigenvals()"
      ],
      "metadata": {
        "colab": {
          "base_uri": "https://localhost:8080/",
          "height": 47
        },
        "id": "2KkGUuwwEuJt",
        "outputId": "51293e6b-ac48-4182-802c-a96f85c1c84c"
      },
      "execution_count": null,
      "outputs": [
        {
          "output_type": "execute_result",
          "data": {
            "text/plain": [
              "{11: 1, 5 - 2⋅√6: 1, 2⋅√6 + 5: 1}"
            ],
            "image/png": "[encoded data removed]",
            "text/latex": "$\\displaystyle \\left\\{ 11 : 1, \\  5 - 2 \\sqrt{6} : 1, \\  2 \\sqrt{6} + 5 : 1\\right\\}$"
          },
          "metadata": {},
          "execution_count": 17
        }
      ]
    },
    {
      "cell_type": "markdown",
      "source": [
        "Cumpliéndose las condiciones podemos proceder a calcular la descomposición de Cholesky:"
      ],
      "metadata": {
        "id": "dNvPZrDmFWmS"
      }
    },
    {
      "cell_type": "code",
      "source": [
        "L = A.cholesky()"
      ],
      "metadata": {
        "id": "Lol0lfJzExMw"
      },
      "execution_count": null,
      "outputs": []
    },
    {
      "cell_type": "code",
      "source": [
        "L"
      ],
      "metadata": {
        "colab": {
          "base_uri": "https://localhost:8080/"
        },
        "id": "LVdS7Q1pFsro",
        "outputId": "c7d8430a-7508-4e4a-cbbf-0be26abbfe06"
      },
      "execution_count": null,
      "outputs": [
        {
          "output_type": "execute_result",
          "data": {
            "text/plain": [
              "⎡√10     0       0 ⎤\n",
              "⎢                  ⎥\n",
              "⎢√10    √15        ⎥\n",
              "⎢───    ───      0 ⎥\n",
              "⎢ 5      5         ⎥\n",
              "⎢                  ⎥\n",
              "⎢√10  -11⋅√15   √66⎥\n",
              "⎢───  ────────  ───⎥\n",
              "⎣ 10     15      6 ⎦"
            ],
            "text/latex": "$\\displaystyle \\left[\\begin{matrix}\\sqrt{10} & 0 & 0\\\\\\frac{\\sqrt{10}}{5} & \\frac{\\sqrt{15}}{5} & 0\\\\\\frac{\\sqrt{10}}{10} & - \\frac{11 \\sqrt{15}}{15} & \\frac{\\sqrt{66}}{6}\\end{matrix}\\right]$"
          },
          "metadata": {},
          "execution_count": 23
        }
      ]
    },
    {
      "cell_type": "code",
      "source": [
        "L.T"
      ],
      "metadata": {
        "colab": {
          "base_uri": "https://localhost:8080/",
          "height": 88
        },
        "id": "BqBT01xzFzHx",
        "outputId": "8aecb45e-8dbd-4d60-d7ac-1a2fbd67868d"
      },
      "execution_count": null,
      "outputs": [
        {
          "output_type": "execute_result",
          "data": {
            "text/plain": [
              "⎡     √10    √10   ⎤\n",
              "⎢√10  ───    ───   ⎥\n",
              "⎢      5      10   ⎥\n",
              "⎢                  ⎥\n",
              "⎢     √15  -11⋅√15 ⎥\n",
              "⎢ 0   ───  ────────⎥\n",
              "⎢      5      15   ⎥\n",
              "⎢                  ⎥\n",
              "⎢            √66   ⎥\n",
              "⎢ 0    0     ───   ⎥\n",
              "⎣             6    ⎦"
            ],
            "text/latex": "$\\displaystyle \\left[\\begin{matrix}\\sqrt{10} & \\frac{\\sqrt{10}}{5} & \\frac{\\sqrt{10}}{10}\\\\0 & \\frac{\\sqrt{15}}{5} & - \\frac{11 \\sqrt{15}}{15}\\\\0 & 0 & \\frac{\\sqrt{66}}{6}\\end{matrix}\\right]$"
          },
          "metadata": {},
          "execution_count": 21
        }
      ]
    },
    {
      "cell_type": "code",
      "source": [
        "L * L.T"
      ],
      "metadata": {
        "colab": {
          "base_uri": "https://localhost:8080/"
        },
        "id": "HOWt9cycF1xL",
        "outputId": "8eb7f737-76e4-45ca-cf60-c20529da1dc6"
      },
      "execution_count": null,
      "outputs": [
        {
          "output_type": "execute_result",
          "data": {
            "text/plain": [
              "⎡10  2   1 ⎤\n",
              "⎢          ⎥\n",
              "⎢2   1   -2⎥\n",
              "⎢          ⎥\n",
              "⎣1   -2  10⎦"
            ],
            "text/latex": "$\\displaystyle \\left[\\begin{matrix}10 & 2 & 1\\\\2 & 1 & -2\\\\1 & -2 & 10\\end{matrix}\\right]$"
          },
          "metadata": {},
          "execution_count": 22
        }
      ]
    },
    {
      "cell_type": "markdown",
      "source": [
        "### El módulo linalg de Numpy y Scipy"
      ],
      "metadata": {
        "id": "XoFf_ei8GCQz"
      }
    },
    {
      "cell_type": "markdown",
      "source": [
        "Veamos cómo hacer las descomposiciones anteriores usando el módulo ```linalg``` de ```numpy``` y ```scipy```."
      ],
      "metadata": {
        "id": "rYT-7JTOGPgt"
      }
    },
    {
      "cell_type": "markdown",
      "source": [
        "Descomposición $PA = L U$:"
      ],
      "metadata": {
        "id": "QYpXArSjHLmG"
      }
    },
    {
      "cell_type": "code",
      "source": [
        "A = np.array([[4, 4, 8], [2, 8, 7], [1, 3, 6]])"
      ],
      "metadata": {
        "id": "ogGog2QLHQpC"
      },
      "execution_count": null,
      "outputs": []
    },
    {
      "cell_type": "code",
      "source": [
        "P, L, U = la.lu(A)"
      ],
      "metadata": {
        "id": "I2xICEO_Hab7"
      },
      "execution_count": null,
      "outputs": []
    },
    {
      "cell_type": "code",
      "source": [
        "print('P=\\n', P)\n",
        "print('L=\\n', L)\n",
        "print('U=\\n', U)"
      ],
      "metadata": {
        "colab": {
          "base_uri": "https://localhost:8080/"
        },
        "id": "on0gVMCFHmDA",
        "outputId": "bb5d390e-2631-445a-b6a5-d957ee45626c"
      },
      "execution_count": null,
      "outputs": [
        {
          "output_type": "stream",
          "name": "stdout",
          "text": [
            "P=\n",
            " [[1. 0. 0.]\n",
            " [0. 1. 0.]\n",
            " [0. 0. 1.]]\n",
            "L=\n",
            " [[1.         0.         0.        ]\n",
            " [0.5        1.         0.        ]\n",
            " [0.25       0.33333333 1.        ]]\n",
            "U=\n",
            " [[4. 4. 8.]\n",
            " [0. 6. 3.]\n",
            " [0. 0. 3.]]\n"
          ]
        }
      ]
    },
    {
      "cell_type": "markdown",
      "source": [
        "Para resolver un sistema de ecuaciones se utiliza la siguiente función"
      ],
      "metadata": {
        "id": "hQF1UwIsIeWK"
      }
    },
    {
      "cell_type": "code",
      "source": [
        "b = np.array([[1], [2], [1]])"
      ],
      "metadata": {
        "id": "6V0L-RABIZ7i",
        "outputId": "64dca6df-67f8-42e7-a35d-70bdda1a99ce",
        "colab": {
          "base_uri": "https://localhost:8080/",
          "height": 263
        }
      },
      "execution_count": null,
      "outputs": [
        {
          "output_type": "error",
          "ename": "NameError",
          "evalue": "name 'np' is not defined",
          "traceback": [
            "\u001b[0;31m---------------------------------------------------------------------------\u001b[0m",
            "\u001b[0;31mNameError\u001b[0m                                 Traceback (most recent call last)",
            "\u001b[0;32m<ipython-input-1-13c8c7aa13ed>\u001b[0m in \u001b[0;36m<cell line: 1>\u001b[0;34m()\u001b[0m\n\u001b[0;32m----> 1\u001b[0;31m \u001b[0mb\u001b[0m \u001b[0;34m=\u001b[0m \u001b[0mnp\u001b[0m\u001b[0;34m.\u001b[0m\u001b[0marray\u001b[0m\u001b[0;34m(\u001b[0m\u001b[0;34m[\u001b[0m\u001b[0;34m[\u001b[0m\u001b[0;36m1\u001b[0m\u001b[0;34m]\u001b[0m\u001b[0;34m,\u001b[0m \u001b[0;34m[\u001b[0m\u001b[0;36m2\u001b[0m\u001b[0;34m]\u001b[0m\u001b[0;34m,\u001b[0m \u001b[0;34m[\u001b[0m\u001b[0;36m1\u001b[0m\u001b[0;34m]\u001b[0m\u001b[0;34m]\u001b[0m\u001b[0;34m)\u001b[0m\u001b[0;34m\u001b[0m\u001b[0;34m\u001b[0m\u001b[0m\n\u001b[0m",
            "\u001b[0;31mNameError\u001b[0m: name 'np' is not defined"
          ]
        }
      ]
    },
    {
      "cell_type": "code",
      "source": [
        "la.solve(A, b)"
      ],
      "metadata": {
        "colab": {
          "base_uri": "https://localhost:8080/"
        },
        "id": "6ECJwcCaInuK",
        "outputId": "f7a3a5f9-89ca-4742-9d6c-570c846a920c"
      },
      "execution_count": null,
      "outputs": [
        {
          "output_type": "execute_result",
          "data": {
            "text/plain": [
              "array([[-0.125     ],\n",
              "       [ 0.20833333],\n",
              "       [ 0.08333333]])"
            ]
          },
          "metadata": {},
          "execution_count": 8
        }
      ]
    },
    {
      "cell_type": "markdown",
      "source": [
        "En el caso de la descomposición de Cholesky"
      ],
      "metadata": {
        "id": "Kt37JCZSI6dq"
      }
    },
    {
      "cell_type": "code",
      "source": [
        "A = np.array([[10, 2, 1], [2, 1, -2], [1, -2, 10]])\n",
        "L = la.cholesky(A, lower=True)\n",
        "print('L=\\n', L)\n",
        "print('A = L L.T =\\n', np.matmul(L, L.T))"
      ],
      "metadata": {
        "colab": {
          "base_uri": "https://localhost:8080/"
        },
        "id": "r8IXivBvJIvI",
        "outputId": "82bd660d-e9e4-4dae-97ff-a983bc37f38c"
      },
      "execution_count": null,
      "outputs": [
        {
          "output_type": "stream",
          "name": "stdout",
          "text": [
            "L=\n",
            " [[ 3.16227766  0.          0.        ]\n",
            " [ 0.63245553  0.77459667  0.        ]\n",
            " [ 0.31622777 -2.84018779  1.3540064 ]]\n",
            "A = L L.T =\n",
            " [[10.  2.  1.]\n",
            " [ 2.  1. -2.]\n",
            " [ 1. -2. 10.]]\n"
          ]
        }
      ]
    },
    {
      "cell_type": "markdown",
      "source": [
        "#### Métodos iterativos"
      ],
      "metadata": {
        "id": "35MZ_dy2NGCL"
      }
    },
    {
      "cell_type": "code",
      "source": [
        "from scipy.sparse import linalg as splin"
      ],
      "metadata": {
        "id": "5LYXhelrQPHi"
      },
      "execution_count": null,
      "outputs": []
    },
    {
      "cell_type": "markdown",
      "source": [
        "**Ejemplo:**\n",
        "\n",
        "Método del gradiente conjugado. Este es elegible cuando:\n",
        "\n",
        "\n",
        "*   La matriz es simétrica y definida positiva.\n",
        "*   La matriz es simétrica y no definida positiva peri bien condicionada.\n",
        "*   La matriz no es simétrica pero es bien condicionada.\n",
        "\n"
      ],
      "metadata": {
        "id": "yV97k3jfNKgb"
      }
    },
    {
      "cell_type": "code",
      "source": [
        "A = np.array([[2, 3], [5, 4]])\n",
        "b = np.array([4, 3])\n",
        "print(A)\n",
        "la.solve(A, b)"
      ],
      "metadata": {
        "colab": {
          "base_uri": "https://localhost:8080/"
        },
        "id": "yVDH5NatPPEz",
        "outputId": "da561823-618d-4753-cfe7-4ac1903e1368"
      },
      "execution_count": null,
      "outputs": [
        {
          "output_type": "stream",
          "name": "stdout",
          "text": [
            "[[2 3]\n",
            " [5 4]]\n"
          ]
        },
        {
          "output_type": "execute_result",
          "data": {
            "text/plain": [
              "array([-1.,  2.])"
            ]
          },
          "metadata": {},
          "execution_count": 12
        }
      ]
    },
    {
      "cell_type": "markdown",
      "source": [
        "Definiendo función delegado para calcular error en cada iteración del método"
      ],
      "metadata": {
        "id": "wvflXzHfObHX"
      }
    },
    {
      "cell_type": "code",
      "source": [
        "# Solución conocida\n",
        "s = np.array([-1., 2.])"
      ],
      "metadata": {
        "id": "JQXRHbDUV9uw"
      },
      "execution_count": null,
      "outputs": []
    },
    {
      "cell_type": "code",
      "source": [
        "# Almacenar resultado por iteración\n",
        "iterationes = []\n",
        "# Almacenar el error en cada interación\n",
        "norm_dif = []\n",
        "\n",
        "# Definición del método delegado o \"callback\" que será\n",
        "# ejecutado en cada una de las interaciones del método\n",
        "def delegate(xk):\n",
        "    iterationes.append(xk)\n",
        "    norm_dif.append(np.linalg.norm(s - xk))"
      ],
      "metadata": {
        "id": "jSB4ZpnOOaG2"
      },
      "execution_count": null,
      "outputs": []
    },
    {
      "cell_type": "markdown",
      "source": [
        "Una implementación del método del gradiente conjugado se encuentra en"
      ],
      "metadata": {
        "id": "WJHCyWyOPGAE"
      }
    },
    {
      "cell_type": "code",
      "source": [
        "splin.cg(A, b, maxiter=10, tol=1e-6, callback=delegate)"
      ],
      "metadata": {
        "colab": {
          "base_uri": "https://localhost:8080/"
        },
        "id": "ydgkm2eNPGer",
        "outputId": "1441fe76-d894-4551-b13b-1154d1f341ee"
      },
      "execution_count": null,
      "outputs": [
        {
          "output_type": "execute_result",
          "data": {
            "text/plain": [
              "(array([-1.05843682,  2.08245082]), 10)"
            ]
          },
          "metadata": {},
          "execution_count": 22
        }
      ]
    },
    {
      "cell_type": "code",
      "source": [
        "iters = np.arange(len(iterationes))\n",
        "iters"
      ],
      "metadata": {
        "colab": {
          "base_uri": "https://localhost:8080/"
        },
        "id": "CH634KU3PIMw",
        "outputId": "32ce52e7-2c36-439e-8518-71faa9aec339"
      },
      "execution_count": null,
      "outputs": [
        {
          "output_type": "execute_result",
          "data": {
            "text/plain": [
              "array([0, 1, 2, 3, 4, 5, 6, 7, 8, 9])"
            ]
          },
          "metadata": {},
          "execution_count": 23
        }
      ]
    },
    {
      "cell_type": "code",
      "source": [
        "iters = np.arange(len(iterationes))\n",
        "\n",
        "fig = plt.figure(figsize=(10, 8))\n",
        "plt.grid()\n",
        "plt.plot(iters, norm_dif, 'k-',lw=2, label='Norma del error')\n",
        "plt.xlabel(r\"$iteraciones$\", fontsize=18)\n",
        "plt.ylabel(r\"$\\parallel s_k - s^* \\parallel_2$\", fontsize=18)\n",
        "# plt.xlim(-5, 240)\n",
        "# plt.ylim(-0.3, 2.5)\n",
        "plt.legend(loc=1, fontsize=18)\n",
        "plt.title(\"Norma del error vs iteraciones\")\n",
        "plt.show()\n",
        "plt.close()"
      ],
      "metadata": {
        "colab": {
          "base_uri": "https://localhost:8080/",
          "height": 521
        },
        "id": "LSznn8ncT41a",
        "outputId": "bd0bde6e-521f-47da-b103-7ae89ce16648"
      },
      "execution_count": null,
      "outputs": [
        {
          "output_type": "display_data",
          "data": {
            "text/plain": [
              "<Figure size 720x576 with 1 Axes>"
            ],
            "image/png": "[encoded data removed]"
          },
          "metadata": {
            "needs_background": "light"
          }
        }
      ]
    },
    {
      "cell_type": "markdown",
      "source": [
        "El problema de convergencia del método radica en que la matriz no es ni simétrica ni definida positiva. Sus valores propios son $\\lambda_1 = -1$ y $\\lambda_2 = 7$. Si no son todos positivos no se cumple la condición de definida positiva.\n",
        "\n",
        "Veamos que ocurre si los:"
      ],
      "metadata": {
        "id": "SCKBvnetW8pN"
      }
    },
    {
      "cell_type": "code",
      "source": [
        "A = np.array([[3, 1, 0], [1, 3, 1],[0, 1, 3]])\n",
        "A"
      ],
      "metadata": {
        "colab": {
          "base_uri": "https://localhost:8080/"
        },
        "id": "te8I6qjMXKXy",
        "outputId": "f71b561b-5d33-4270-a4ba-247ee34c436c"
      },
      "execution_count": null,
      "outputs": [
        {
          "output_type": "execute_result",
          "data": {
            "text/plain": [
              "array([[3, 1, 0],\n",
              "       [1, 3, 1],\n",
              "       [0, 1, 3]])"
            ]
          },
          "metadata": {},
          "execution_count": 75
        }
      ]
    },
    {
      "cell_type": "code",
      "source": [
        "b = np.array([4., 5. ,4. ])\n",
        "b"
      ],
      "metadata": {
        "colab": {
          "base_uri": "https://localhost:8080/"
        },
        "id": "xOL9AsY6X9Pj",
        "outputId": "73cc4838-21d3-461c-efc4-82adea2e350f"
      },
      "execution_count": null,
      "outputs": [
        {
          "output_type": "execute_result",
          "data": {
            "text/plain": [
              "array([4., 5., 4.])"
            ]
          },
          "metadata": {},
          "execution_count": 74
        }
      ]
    },
    {
      "cell_type": "markdown",
      "source": [
        "Sus valores propios esta vez son todos positivos: $ \\lambda_1 = 1.58578644$, $ \\lambda_2 = 3$ y $ \\lambda_3 = 4.41421356$"
      ],
      "metadata": {
        "id": "fo0FnjcpYClT"
      }
    },
    {
      "cell_type": "code",
      "source": [
        "s = np.array([1., 1., 1.])\n",
        "\n",
        "# Almacenar resultado por iteración\n",
        "iterationes = []\n",
        "# Almacenar el error en cada interación\n",
        "norm_dif = []"
      ],
      "metadata": {
        "id": "DbeTLWhpX-pZ"
      },
      "execution_count": null,
      "outputs": []
    },
    {
      "cell_type": "code",
      "source": [
        "splin.cg(A, b, maxiter=2, tol=1e-6, callback=delegate)"
      ],
      "metadata": {
        "colab": {
          "base_uri": "https://localhost:8080/"
        },
        "id": "lw3kt2WOZAZx",
        "outputId": "a69ca1c4-ac9e-4df2-828a-e6fb2fb523ef"
      },
      "execution_count": null,
      "outputs": [
        {
          "output_type": "execute_result",
          "data": {
            "text/plain": [
              "(array([1., 1., 1.]), 0)"
            ]
          },
          "metadata": {},
          "execution_count": 89
        }
      ]
    },
    {
      "cell_type": "code",
      "source": [
        "iters = np.arange(len(iterationes))\n",
        "\n",
        "fig = plt.figure(figsize=(10, 8))\n",
        "plt.grid()\n",
        "plt.plot(iters, norm_dif, 'k-',lw=2, label='Norma del error')\n",
        "plt.xlabel(r\"$iteraciones$\", fontsize=18)\n",
        "plt.ylabel(r\"$\\parallel s_k - s^* \\parallel_2$\", fontsize=18)\n",
        "plt.xlim(-5, 240)\n",
        "plt.ylim(-0.3, 2.5)\n",
        "plt.legend(loc=1, fontsize=18)\n",
        "plt.title(\"Norma del error vs iteraciones\")\n",
        "plt.show()\n",
        "plt.close()"
      ],
      "metadata": {
        "colab": {
          "base_uri": "https://localhost:8080/",
          "height": 521
        },
        "id": "qNg94KcMZJ8w",
        "outputId": "a15638ab-bb7c-49e6-f987-12bd14aed0a4"
      },
      "execution_count": null,
      "outputs": [
        {
          "output_type": "display_data",
          "data": {
            "text/plain": [
              "<Figure size 720x576 with 1 Axes>"
            ],
            "image/png": "[encoded data removed]"
          },
          "metadata": {
            "needs_background": "light"
          }
        }
      ]
    },
    {
      "cell_type": "markdown",
      "source": [
        "También existen implementaciones de los métodos iterativos usuales:"
      ],
      "metadata": {
        "id": "DSnBSF9bZdwS"
      }
    },
    {
      "cell_type": "code",
      "source": [
        "splin.cgs(A, b, maxiter=1000, tol=1e-6)"
      ],
      "metadata": {
        "colab": {
          "base_uri": "https://localhost:8080/"
        },
        "id": "s20fF5ApZo0X",
        "outputId": "94523ed4-3f43-4c45-c26e-5eb86df64c93"
      },
      "execution_count": null,
      "outputs": [
        {
          "output_type": "execute_result",
          "data": {
            "text/plain": [
              "(array([1., 1., 1.]), 0)"
            ]
          },
          "metadata": {},
          "execution_count": 66
        }
      ]
    },
    {
      "cell_type": "code",
      "source": [
        "splin.bicg(A, b, maxiter=1000, tol=1e-6)"
      ],
      "metadata": {
        "colab": {
          "base_uri": "https://localhost:8080/"
        },
        "id": "xVENC7-taCzO",
        "outputId": "f5823656-4dc3-47be-e70f-025fbd1f8b1c"
      },
      "execution_count": null,
      "outputs": [
        {
          "output_type": "execute_result",
          "data": {
            "text/plain": [
              "(array([1., 1., 1.]), 0)"
            ]
          },
          "metadata": {},
          "execution_count": 67
        }
      ]
    },
    {
      "cell_type": "code",
      "source": [
        "splin.gmres(A, b, maxiter=1000, tol=1e-6)"
      ],
      "metadata": {
        "colab": {
          "base_uri": "https://localhost:8080/"
        },
        "id": "4pME5cjyZtOG",
        "outputId": "5c351c4f-9cea-4d51-887a-9d6ba3202431"
      },
      "execution_count": null,
      "outputs": [
        {
          "output_type": "execute_result",
          "data": {
            "text/plain": [
              "(array([1., 1., 1.]), 0)"
            ]
          },
          "metadata": {},
          "execution_count": 68
        }
      ]
    },
    {
      "cell_type": "markdown",
      "source": [
        "#### Análisis de sensibilidad\n",
        "Sea el siguiente sistema:\n",
        "\n",
        "$\\begin{bmatrix}\n",
        "1 & \\sqrt{p}\\\\\n",
        "1 & \\frac{1}{\\sqrt{p}}\n",
        "\\end{bmatrix}\n",
        "\\begin{bmatrix}\n",
        "x_1\\\\\n",
        "x_2\n",
        "\\end{bmatrix} =\n",
        "\\begin{bmatrix}\n",
        "1\\\\\n",
        "2\n",
        "\\end{bmatrix}$"
      ],
      "metadata": {
        "id": "QLb7n8A6aQtk"
      }
    },
    {
      "cell_type": "code",
      "source": [
        "p = sympy.symbols(\"p\", positive=True)\n",
        "A = sympy.Matrix([[1, sympy.sqrt(p)], [1, 1/sympy.sqrt(p)]])\n",
        "b = sympy.Matrix([1, 2])\n",
        "A\n"
      ],
      "metadata": {
        "colab": {
          "base_uri": "https://localhost:8080/",
          "height": 61
        },
        "id": "TripnPBCaT3h",
        "outputId": "b3aa350b-035b-498b-f8fa-16da46653b53"
      },
      "execution_count": null,
      "outputs": [
        {
          "output_type": "execute_result",
          "data": {
            "text/plain": [
              "⎡1  √p⎤\n",
              "⎢     ⎥\n",
              "⎢   1 ⎥\n",
              "⎢1  ──⎥\n",
              "⎣   √p⎦"
            ],
            "text/latex": "$\\displaystyle \\left[\\begin{matrix}1 & \\sqrt{p}\\\\1 & \\frac{1}{\\sqrt{p}}\\end{matrix}\\right]$"
          },
          "metadata": {},
          "execution_count": 73
        }
      ]
    },
    {
      "cell_type": "code",
      "source": [
        "x = A.solve(b)\n",
        "x"
      ],
      "metadata": {
        "colab": {
          "base_uri": "https://localhost:8080/",
          "height": 68
        },
        "id": "GvwLU4Eoa9Ky",
        "outputId": "0f0768a0-abab-446d-8475-38c89f8c3ffb"
      },
      "execution_count": null,
      "outputs": [
        {
          "output_type": "execute_result",
          "data": {
            "text/plain": [
              "⎡2⋅p - 1 ⎤\n",
              "⎢─────── ⎥\n",
              "⎢ p - 1  ⎥\n",
              "⎢        ⎥\n",
              "⎢   1    ⎥\n",
              "⎢────────⎥\n",
              "⎢      1 ⎥\n",
              "⎢-√p + ──⎥\n",
              "⎣      √p⎦"
            ],
            "text/latex": "$\\displaystyle \\left[\\begin{matrix}\\frac{2 p - 1}{p - 1}\\\\\\frac{1}{- \\sqrt{p} + \\frac{1}{\\sqrt{p}}}\\end{matrix}\\right]$"
          },
          "metadata": {},
          "execution_count": 74
        }
      ]
    },
    {
      "cell_type": "markdown",
      "source": [
        "El problema es que en la medida que $p$ se aproxime al valor $1$ entonces la matriz $A$ se vuelve singular. Esto hace que $A$ sea una matriz *mal condicionada*."
      ],
      "metadata": {
        "id": "HoFkH3DGeJrJ"
      }
    },
    {
      "cell_type": "code",
      "source": [
        "A_cond = A.condition_number().simplify()\n",
        "A_cond"
      ],
      "metadata": {
        "colab": {
          "base_uri": "https://localhost:8080/",
          "height": 106
        },
        "id": "qoISVyVCcRzk",
        "outputId": "fca27a30-05c1-4029-9d67-5d00a69bd389"
      },
      "execution_count": null,
      "outputs": [
        {
          "output_type": "execute_result",
          "data": {
            "text/plain": [
              "Max(sqrt(2)*sqrt((p + 1)**2 - sqrt(p**4 + 14*p**2 + 1))/(2*sqrt(p)), sqrt(2)*s\n",
              "──────────────────────────────────────────────────────────────────────────────\n",
              "Min(sqrt(2)*sqrt((p + 1)**2 - sqrt(p**4 + 14*p**2 + 1))/(2*sqrt(p)), sqrt(2)*s\n",
              "\n",
              "qrt((p + 1)**2 + sqrt(p**4 + 14*p**2 + 1))/(2*sqrt(p)))\n",
              "───────────────────────────────────────────────────────\n",
              "qrt((p + 1)**2 + sqrt(p**4 + 14*p**2 + 1))/(2*sqrt(p)))"
            ],
            "image/png": "[encoded data removed]",
            "text/latex": "$\\displaystyle \\frac{\\max\\left(\\frac{\\sqrt{2} \\sqrt{\\left(p + 1\\right)^{2} - \\sqrt{p^{4} + 14 p^{2} + 1}}}{2 \\sqrt{p}}, \\frac{\\sqrt{2} \\sqrt{\\left(p + 1\\right)^{2} + \\sqrt{p^{4} + 14 p^{2} + 1}}}{2 \\sqrt{p}}\\right)}{\\min\\left(\\frac{\\sqrt{2} \\sqrt{\\left(p + 1\\right)^{2} - \\sqrt{p^{4} + 14 p^{2} + 1}}}{2 \\sqrt{p}}, \\frac{\\sqrt{2} \\sqrt{\\left(p + 1\\right)^{2} + \\sqrt{p^{4} + 14 p^{2} + 1}}}{2 \\sqrt{p}}\\right)}$"
          },
          "metadata": {},
          "execution_count": 75
        }
      ]
    },
    {
      "cell_type": "code",
      "source": [
        "A_cond.subs(p, 1)"
      ],
      "metadata": {
        "colab": {
          "base_uri": "https://localhost:8080/",
          "height": 37
        },
        "id": "iSuthD76cdhr",
        "outputId": "5d771dc1-d5f5-408d-f9da-83b8905b3c94"
      },
      "execution_count": null,
      "outputs": [
        {
          "output_type": "execute_result",
          "data": {
            "text/plain": [
              "zoo"
            ],
            "image/png": "[encoded data removed]",
            "text/latex": "$\\displaystyle \\tilde{\\infty}$"
          },
          "metadata": {},
          "execution_count": 76
        }
      ]
    },
    {
      "cell_type": "code",
      "source": [
        "A_cond.subs(p, 1 + 1e-10)"
      ],
      "metadata": {
        "colab": {
          "base_uri": "https://localhost:8080/",
          "height": 37
        },
        "id": "0CAh0y18d0Q0",
        "outputId": "1248506b-6f48-4d85-9e2b-e9a32bce2578"
      },
      "execution_count": null,
      "outputs": [
        {
          "output_type": "execute_result",
          "data": {
            "text/plain": [
              "zoo"
            ],
            "image/png": "[encoded data removed]",
            "text/latex": "$\\displaystyle \\tilde{\\infty}$"
          },
          "metadata": {},
          "execution_count": 77
        }
      ]
    },
    {
      "cell_type": "code",
      "source": [
        "A_cond.subs(p, 1.5)"
      ],
      "metadata": {
        "colab": {
          "base_uri": "https://localhost:8080/",
          "height": 37
        },
        "id": "h3kndtzyd6Vx",
        "outputId": "85f9c81e-b424-4739-8b40-e31b925808b3"
      },
      "execution_count": null,
      "outputs": [
        {
          "output_type": "execute_result",
          "data": {
            "text/plain": [
              "10.1072685627991"
            ],
            "image/png": "[encoded data removed]",
            "text/latex": "$\\displaystyle 10.1072685627991$"
          },
          "metadata": {},
          "execution_count": 78
        }
      ]
    },
    {
      "cell_type": "markdown",
      "source": [
        "Hagamos un análisis numérico del problema. El siguiente código resolverá el sistema para un valor dado de $p$."
      ],
      "metadata": {
        "id": "A7PNPmhOeih_"
      }
    },
    {
      "cell_type": "code",
      "source": [
        "AA = lambda p: np.array([[1, np.sqrt(p)], [1, 1/np.sqrt(p)]])\n",
        "bb = np.array([1, 2])\n",
        "x_num_sol = lambda p: np.linalg.solve(AA(p), bb)"
      ],
      "metadata": {
        "id": "d86_leT-fFFs"
      },
      "execution_count": null,
      "outputs": []
    },
    {
      "cell_type": "code",
      "source": [
        "x_sym_sol = x"
      ],
      "metadata": {
        "id": "ZK8eA6fbf157"
      },
      "execution_count": null,
      "outputs": []
    },
    {
      "cell_type": "code",
      "source": [
        "# Valores de prueba\n",
        "p_vec = np.linspace(0.9, 1.1, 200)\n",
        "\n",
        "fig, axes = plt.subplots(1, 2, figsize=(12, 4))\n",
        "\n",
        "# Calcular error relativo\n",
        "for n in range(2):\n",
        "    x_sym = np.array([x_sym_sol[n].subs(p, pp).evalf() for pp in p_vec])\n",
        "    x_num = np.array([x_num_sol(pp)[n] for pp in p_vec])\n",
        "\n",
        "    axes[0].plot(p_vec, (x_num - x_sym) / x_sym, '--')\n",
        "\n",
        "axes[0].set_title(\"Error relativo de la solución\\n(simbólico - numérico)\", fontsize=18)\n",
        "axes[0].set_xlabel('$x$', fontsize=18)\n",
        "axes[0].set_xlim(0.9, 1.10)\n",
        "\n",
        "# Condición de la matriz\n",
        "axes[1].plot(p_vec, [A_cond.subs(p, pp).evalf() for pp in p_vec], '-g')\n",
        "axes[1].set_title(\"Condition number\", fontsize=18)\n",
        "axes[1].set_xlabel('$x$', fontsize=18)\n",
        "axes[1].set_xlim(0.9, 1.10)\n",
        "\n",
        "plt.show()\n",
        "plt.close()"
      ],
      "metadata": {
        "colab": {
          "base_uri": "https://localhost:8080/",
          "height": 328
        },
        "id": "he5a2CLFfS7-",
        "outputId": "c5d8bcee-c0f6-466a-94e4-dbbbafe88fad"
      },
      "execution_count": null,
      "outputs": [
        {
          "output_type": "display_data",
          "data": {
            "text/plain": [
              "<Figure size 864x288 with 2 Axes>"
            ],
            "image/png": "[encoded data removed]"
          },
          "metadata": {
            "needs_background": "light"
          }
        }
      ]
    },
    {
      "cell_type": "markdown",
      "source": [
        "### Sistemas de ecuaciones rectangulares"
      ],
      "metadata": {
        "id": "crvQnFqZlZWp"
      }
    },
    {
      "cell_type": "code",
      "source": [
        "x_vars = sympy.symbols(\"x_1, x_2, x_3\")\n",
        "A = sympy.Matrix([[1, 2, 3], [4, 5, 6]])\n",
        "x = sympy.Matrix(x_vars)\n",
        "b = sympy.Matrix([7, 8])"
      ],
      "metadata": {
        "id": "383vLccAeAc4"
      },
      "execution_count": null,
      "outputs": []
    },
    {
      "cell_type": "code",
      "source": [
        "A"
      ],
      "metadata": {
        "colab": {
          "base_uri": "https://localhost:8080/",
          "height": 58
        },
        "id": "4_6bXotfeKxX",
        "outputId": "e3efb01d-5b0e-4d7a-92cf-dd0e2542c947"
      },
      "execution_count": null,
      "outputs": [
        {
          "output_type": "execute_result",
          "data": {
            "text/plain": [
              "⎡1  2  3⎤\n",
              "⎢       ⎥\n",
              "⎣4  5  6⎦"
            ],
            "text/latex": "$\\displaystyle \\left[\\begin{matrix}1 & 2 & 3\\\\4 & 5 & 6\\end{matrix}\\right]$"
          },
          "metadata": {},
          "execution_count": 83
        }
      ]
    },
    {
      "cell_type": "code",
      "source": [
        "b"
      ],
      "metadata": {
        "colab": {
          "base_uri": "https://localhost:8080/",
          "height": 58
        },
        "id": "4Dpl1yk6eNqp",
        "outputId": "476daad1-3eb2-4043-f2ca-2f7a35644452"
      },
      "execution_count": null,
      "outputs": [
        {
          "output_type": "execute_result",
          "data": {
            "text/plain": [
              "⎡7⎤\n",
              "⎢ ⎥\n",
              "⎣8⎦"
            ],
            "text/latex": "$\\displaystyle \\left[\\begin{matrix}7\\\\8\\end{matrix}\\right]$"
          },
          "metadata": {},
          "execution_count": 84
        }
      ]
    },
    {
      "cell_type": "code",
      "source": [
        "x"
      ],
      "metadata": {
        "colab": {
          "base_uri": "https://localhost:8080/",
          "height": 78
        },
        "id": "y4_0JCmiePQa",
        "outputId": "dfaae008-afe4-4740-d0d1-f567e7538f82"
      },
      "execution_count": null,
      "outputs": [
        {
          "output_type": "execute_result",
          "data": {
            "text/plain": [
              "⎡x₁⎤\n",
              "⎢  ⎥\n",
              "⎢x₂⎥\n",
              "⎢  ⎥\n",
              "⎣x₃⎦"
            ],
            "text/latex": "$\\displaystyle \\left[\\begin{matrix}x_{1}\\\\x_{2}\\\\x_{3}\\end{matrix}\\right]$"
          },
          "metadata": {},
          "execution_count": 85
        }
      ]
    },
    {
      "cell_type": "code",
      "source": [
        "sympy.solve(A * x - b, x_vars)"
      ],
      "metadata": {
        "colab": {
          "base_uri": "https://localhost:8080/",
          "height": 58
        },
        "id": "P2DVrpsyfo02",
        "outputId": "fa0804c0-6967-4563-d5f3-06aad559bb1f"
      },
      "execution_count": null,
      "outputs": [
        {
          "output_type": "execute_result",
          "data": {
            "text/plain": [
              "{x₁: x₃ - 19/3, x₂: 20/3 - 2⋅x₃}"
            ],
            "image/png": "[encoded data removed]",
            "text/latex": "$\\displaystyle \\left\\{ x_{1} : x_{3} - \\frac{19}{3}, \\  x_{2} : \\frac{20}{3} - 2 x_{3}\\right\\}$"
          },
          "metadata": {},
          "execution_count": 86
        }
      ]
    },
    {
      "cell_type": "markdown",
      "source": [
        "### Problemas de valores y vectores propios\n",
        "El problema de los valores y vectores propios se refiere a la solución del problema $A\\vec{v} = \\lambda \\vec{v}$.\n",
        "\n",
        "Referencia documental:\n",
        "Implementación en scipy https://docs.scipy.org/doc/scipy/reference/generated/scipy.linalg.eig.html\n",
        "\n",
        "Implementación en numpy: https://numpy.org/doc/stable/reference/generated/numpy.linalg.eig.html"
      ],
      "metadata": {
        "id": "L3ZZItb-n-me"
      }
    },
    {
      "cell_type": "markdown",
      "source": [
        "Por supuesto que pudiera pensarse en diagonalizar la matriz para simplificar el problema pero esto *cambia los valores propios* cosa que no es deseable.\n",
        "\n",
        "En su lugar se reagrupan los terminos para tener\n",
        "\n",
        "$(A - \\lambda I) \\vec{v} = 0$\n",
        "\n",
        "lo cual permite un mejor análisis. Obviando la solución trivial $\\vec{v} = 0$ entonces nos enfocamos en el determinado por el polinómio característico:\n",
        "\n",
        "$det(A - \\lambda I)=0$.\n",
        "\n",
        "Las raíces de este polinomio permiten conocer los valores propios $\\lambda$ y a partir de ellos los espacios de vectores propios asociados que conforman el espacio nulo de la matriz resultante\n",
        "\n",
        "$(A - \\lambda I) \\vec{v} = 0$."
      ],
      "metadata": {
        "id": "HctqslHDS5MT"
      }
    },
    {
      "cell_type": "markdown",
      "source": [
        "En el módulo ```linalg``` de ```scipy``` se encuentran algunas funciones que permiten calcular los vectores y valores propios de forma eficiente (usando rutinas implementadas en la biblioteca ```LAPACK``` de FORTRAN).\n",
        "\n",
        "función                      | Descripción\n",
        "-----------------------------|--------------------------------------\n",
        "```scipy.linalg.eigvals```   | Calcula los valores propios de un problema ordinario o generalizado (ver ejemplos debajo) de valores propios.\n",
        "```scipy.linalg.eig```       | Calcula los valores propios como el anterior pero también brinda los vectores propios asociados (contiguos si vienen en pares).\n",
        "```scipy.linalg.eigh```      | Realiza la misma función que el anterior pero con la particularidad de que está optimizado para matrices simétricas. La implementación en ```LAPACK``` utiliza una descomposición $QR$.\n",
        "```scipy.linalg.eigh_tridiagonal``` |  Resuelve el problema para matrices simétricas tri-diagonales (interesante en el área de las ecuaciones diferenciales en derivadas parciales).\n"
      ],
      "metadata": {
        "id": "ns961QuPS8u5"
      }
    },
    {
      "cell_type": "markdown",
      "source": [
        "**Demo #1:** Veamos un ejemplo de un problema ordinario donde se tiene una matriz $A=\\begin{bmatrix}\n",
        "0 & -1\\\\\n",
        "1 & 0\n",
        "\\end{bmatrix}$."
      ],
      "metadata": {
        "id": "DxHUQ6bmbP-Z"
      }
    },
    {
      "cell_type": "code",
      "source": [
        "A = np.array([[0., -1.], [1., 0.]])\n",
        "print('Valores propios ', la.eigvals(A))"
      ],
      "metadata": {
        "colab": {
          "base_uri": "https://localhost:8080/"
        },
        "id": "jFHxp4NiY58a",
        "outputId": "a84e4f33-8e0e-4247-f1dd-2658204f9920"
      },
      "execution_count": null,
      "outputs": [
        {
          "output_type": "stream",
          "name": "stdout",
          "text": [
            "Valores propios  [0.+1.j 0.-1.j]\n"
          ]
        }
      ]
    },
    {
      "cell_type": "markdown",
      "source": [
        "Al calcular los valores propios, estos son números complejos.\n",
        "\n",
        "*Como posible aplicación se puede decir que sus vectores propios asociados definen transformaciones rotatorias en el espacio.*"
      ],
      "metadata": {
        "id": "36pHlZppb3M6"
      }
    },
    {
      "cell_type": "markdown",
      "source": [
        "**Demo #2:** Si calculamos un problema general donde definimos otra transformación lineal $B = \\begin{bmatrix}\n",
        "0 & 1 \\\\\n",
        "1 & 1\n",
        "\\end{bmatrix}$ entonces se tiene el siguiente problema\n",
        "\n",
        "$ A\\vec{v} = \\lambda B\\vec{v} $,\n",
        "\n",
        "$(A-\\lambda B)\\vec{v} = 0$.\n",
        "En el siguiente ejemplo se muestra como resolver este problema."
      ],
      "metadata": {
        "id": "sygvdkFIcTwE"
      }
    },
    {
      "cell_type": "code",
      "source": [
        "B = np.array([[0., 1.], [1., 1.]])\n",
        "print('Valores propios ', la.eigvals(A, B))"
      ],
      "metadata": {
        "colab": {
          "base_uri": "https://localhost:8080/"
        },
        "id": "STNAhz3tbKHv",
        "outputId": "97b76828-6f36-4569-b2d2-3e86ff25a876"
      },
      "execution_count": null,
      "outputs": [
        {
          "output_type": "stream",
          "name": "stdout",
          "text": [
            "Valores propios  [ 1.+0.j -1.+0.j]\n"
          ]
        }
      ]
    },
    {
      "cell_type": "markdown",
      "source": [
        "En este caso los valores propios son  números reales."
      ],
      "metadata": {
        "id": "yeVZNhPbcw9p"
      }
    },
    {
      "cell_type": "markdown",
      "source": [
        "**Demo #3:** Supongamos ahora que queremos calcular además los vectores propios asociados. Entonces podemos utilizar la función general ```scipy.linalg.eig```:"
      ],
      "metadata": {
        "id": "7opYmWgDjukZ"
      }
    },
    {
      "cell_type": "code",
      "source": [
        "A2 = np.array([[1, -1], [2, 4]])\n",
        "\n",
        "# Calculando valores y vectores propios\n",
        "e = la.eig(A2)\n",
        "\n",
        "print('Valores propios:', e[0])\n",
        "print('Vectores propios normalizados:\\n', e[1]/la.norm(e[1]))"
      ],
      "metadata": {
        "colab": {
          "base_uri": "https://localhost:8080/"
        },
        "id": "BzlD6BI8kPNo",
        "outputId": "ad5e4e34-1268-47f3-b114-f7d7810d74a6"
      },
      "execution_count": null,
      "outputs": [
        {
          "output_type": "stream",
          "name": "stdout",
          "text": [
            "Valores propios: [2.+0.j 3.+0.j]\n",
            "Vectores propios normalizados:\n",
            " [[-0.5         0.31622777]\n",
            " [ 0.5        -0.63245553]]\n"
          ]
        }
      ]
    },
    {
      "cell_type": "markdown",
      "source": [
        "En este acaso se devuelve un array con dos elementos ```[valores propios, vectores propios]```.\n",
        "\n",
        "En el caso anterior el polinomio característico queda\n",
        "\n",
        "$\\lambda^2 - 5 \\lambda + 6 = 0$\n",
        "\n",
        "con soluciones $\\lambda_1 = 3$ y $\\lambda_2 = 2$.\n",
        "\n",
        "Si se calculan analíticamente los espacios de vectores propios se obtiene\n",
        "\n",
        "$\\vec{v}_{\\lambda_1} =\n",
        "\\begin{bmatrix}\n",
        "-\\frac{1}{2} \\\\\n",
        "\\frac{1}{2}\n",
        "\\end{bmatrix}$ y\n",
        "$\\vec{v}_{\\lambda_2} =\n",
        "\\begin{bmatrix}\n",
        "\\frac{1}{3} \\\\\n",
        "-\\frac{2}{3}\n",
        "\\end{bmatrix}$.\n",
        "\n",
        "Es importante notar que la función ```scipy.linalg.eig``` tiene los parámetros ```left``` y ```right```. Esto significa que\n",
        "\n",
        "*   Si ```left=True``` entonces la matriz de vectores propios $S$ dada será de acuerdo a $A = S \\mathcal{Λ} S^{-1}$.\n",
        "*   Si ```right=True``` entonces la matriz de vectores propios $S$ dada será de acuerdo a $A = S^{-1} \\mathcal{Λ} S$.\n",
        "\n",
        "La diferencia que se muestra en el segundo vector está dada por aproximaciones numéricas."
      ],
      "metadata": {
        "id": "AmyfxPv4kxBN"
      }
    },
    {
      "cell_type": "markdown",
      "source": [
        "## Ejercicios"
      ],
      "metadata": {
        "id": "mQqFsj8lU7gj"
      }
    },
    {
      "cell_type": "markdown",
      "source": [
        "### Ejercicio #1: Resolviendo sistema de ecuaciones con descomposición LU.\n",
        "\n",
        "Dado el siguiente sistema de ecuaciones\n",
        "\n",
        "$\n",
        "\\begin{bmatrix}\n",
        " 1 & 4 & 5 \\\\\n",
        " 6 & 8 & 22\\\\\n",
        "32 & 5 & 5\n",
        "\\end{bmatrix} x = \\begin{bmatrix}\n",
        "1\\\\\n",
        "2\\\\\n",
        "3\n",
        "\\end{bmatrix}\n",
        "$:\n"
      ],
      "metadata": {
        "id": "0fGm0DIJ57bl"
      }
    },
    {
      "cell_type": "code",
      "source": [
        "# Creando matriz A\n",
        "A = np.array([[1, 4, 5],[6, 8, 22],[32, 5, 5]], dtype=np.float64)\n",
        "# Creando vector b\n",
        "b = np.array([1, 2, 3])"
      ],
      "metadata": {
        "id": "BV29gzOv9rXX"
      },
      "execution_count": null,
      "outputs": []
    },
    {
      "cell_type": "markdown",
      "source": [
        "Descompóngalo en las matrices P, L y U e imprímalas:"
      ],
      "metadata": {
        "id": "PxpjUILr7bYP"
      }
    },
    {
      "cell_type": "code",
      "source": [
        "# Calculando la descomposición LU\n",
        "P, L, U = la.lu(A)\n",
        "\n",
        "print(\"P =\\n\", P)\n",
        "print(\"L =\\n\", L)\n",
        "print(\"U =\\n\", U)"
      ],
      "metadata": {
        "colab": {
          "base_uri": "https://localhost:8080/"
        },
        "id": "U2S6a6Vo7e0O",
        "outputId": "aadbbdf3-9f95-4191-d2ac-80daebb8b5a0"
      },
      "execution_count": null,
      "outputs": [
        {
          "output_type": "stream",
          "name": "stdout",
          "text": [
            "P =\n",
            " [[0. 0. 1.]\n",
            " [0. 1. 0.]\n",
            " [1. 0. 0.]]\n",
            "L =\n",
            " [[1.         0.         0.        ]\n",
            " [0.1875     1.         0.        ]\n",
            " [0.03125    0.54424779 1.        ]]\n",
            "U =\n",
            " [[32.          5.          5.        ]\n",
            " [ 0.          7.0625     21.0625    ]\n",
            " [ 0.          0.         -6.61946903]]\n"
          ]
        }
      ]
    },
    {
      "cell_type": "markdown",
      "source": [
        "¿Es A \"igual\" a LU(A)? Utilice la función ```np.allclose``` para ello o la norma de la diferencia entre matrices con una tolerancia de ```ϵ=1e-10```."
      ],
      "metadata": {
        "id": "WV7OZl7yCu57"
      }
    },
    {
      "cell_type": "code",
      "source": [
        "print(\"¿Es A 'igual' a LU(A)?\", np.allclose(A, P @ L @ U))\n",
        "print(\"También ||A - PLU(A)|| =\", la.norm(A - P @ L @ U) < 1e-10)\n",
        "la.norm(A - P @ L @ U)"
      ],
      "metadata": {
        "colab": {
          "base_uri": "https://localhost:8080/"
        },
        "id": "vOjkbBCZC9GH",
        "outputId": "a63a8113-7bf1-4a48-90ae-e36dc70e3e71"
      },
      "execution_count": null,
      "outputs": [
        {
          "output_type": "stream",
          "name": "stdout",
          "text": [
            "¿Es A 'igual' a LU(A)? True\n",
            "También ||A - PLU(A)|| = True\n"
          ]
        },
        {
          "output_type": "execute_result",
          "data": {
            "text/plain": [
              "4.440892098500626e-16"
            ]
          },
          "metadata": {},
          "execution_count": 15
        }
      ]
    },
    {
      "cell_type": "markdown",
      "source": [
        "Calcule el determinante de la matriz A usando la función ```la.det```."
      ],
      "metadata": {
        "id": "eCOArlIIDXoO"
      }
    },
    {
      "cell_type": "code",
      "source": [
        "la.det(A)"
      ],
      "metadata": {
        "colab": {
          "base_uri": "https://localhost:8080/"
        },
        "id": "nKjmXmRNDg1n",
        "outputId": "a9aa1ade-5113-4abf-bad6-82df617a0e71"
      },
      "execution_count": null,
      "outputs": [
        {
          "output_type": "execute_result",
          "data": {
            "text/plain": [
              "1496.0000000000002"
            ],
            "image/png": "[encoded data removed]",
            "text/latex": "$\\displaystyle 1496.0$"
          },
          "metadata": {},
          "execution_count": 93
        }
      ]
    },
    {
      "cell_type": "markdown",
      "source": [
        "Calcule ahora el determinante de la matriz $A$ utilizando la descomposición $ LU$ de $A$ sin usar la función ```det```. Recuerde que el determinante de una matriz es igual a la multiplicación de los determinantes de su descomposición. Tenga en cuenta también las permutaciones contenidas en la matriz $P$."
      ],
      "metadata": {
        "id": "3bVMYyihm5l3"
      }
    },
    {
      "cell_type": "code",
      "source": [
        "detL = 1.0\n",
        "detU = np.prod(np.diagonal(U))\n",
        "swaps = (np.diagonal(P).size - np.sum(np.diagonal(P))) - 1\n",
        "detP = np.power(-1, swaps)\n",
        "\n",
        "print(\"Determinante de A =\", detP * detL * detU)"
      ],
      "metadata": {
        "colab": {
          "base_uri": "https://localhost:8080/"
        },
        "id": "6EKlVAhqDkYQ",
        "outputId": "7e3df8cf-e5aa-4eff-cf45-4ca7e0fdb3b8"
      },
      "execution_count": null,
      "outputs": [
        {
          "output_type": "stream",
          "name": "stdout",
          "text": [
            "Determinante de A = 1495.9999999999998\n"
          ]
        }
      ]
    },
    {
      "cell_type": "markdown",
      "source": [
        "### Ejercicio #2: Calculando inversa de la matriz A utilizando la descomposición $LU$."
      ],
      "metadata": {
        "id": "pkoqcUvrFspw"
      }
    },
    {
      "cell_type": "markdown",
      "source": [
        "Para calcular la matriz inversa de $A$ seguiremos el algoritmo basado en la propiedad\n",
        "\n",
        "$A A^{-1} = I$ donde\n",
        "\n",
        "$\n",
        "A = \\begin{bmatrix}\n",
        "a_{00}      &  \\dots  &  a_{0 n}       \\\\\n",
        "\\vdots &  \\ddots &  \\vdots  \\\\\n",
        "a_{n 0}      &  \\dots  &  a_{nn}\n",
        "\\end{bmatrix}\n",
        "$ y $ A^{-1} = \\begin{bmatrix}\n",
        "\\sigma_{00}      &  \\dots  &  \\sigma_{0 n}       \\\\\n",
        "\\vdots &  \\ddots &  \\vdots  \\\\\n",
        "\\sigma_{n 0}      &  \\dots  &  \\sigma_{nn}\n",
        "\\end{bmatrix}\n",
        "$, la cual cumple que\n",
        "\n",
        "$\n",
        "\\begin{bmatrix}\n",
        "a_{00}      &  \\dots  &  a_{0 n}       \\\\\n",
        "\\vdots &  \\ddots &  \\vdots  \\\\\n",
        "a_{n 0}      &  \\dots  &  a_{nn}\n",
        "\\end{bmatrix}\n",
        "\\begin{bmatrix}\n",
        "\\sigma_{0 j}  \\\\\n",
        "\\vdots        \\\\\n",
        "\\sigma_{n, j} \\\\\n",
        "\\end{bmatrix} =\n",
        "I_j \\, j = 0, \\dots, n\n",
        "$\n",
        "\n",
        "donde $I_j$ es la columna j-ésima de la matriz identidad.\n"
      ],
      "metadata": {
        "id": "phvZzCENGQ6I"
      }
    },
    {
      "cell_type": "markdown",
      "source": [
        "Y para ello vamos a aprovechar los beneficios que nos brinda la descomposición $LU$ de la siguiente forma:\n",
        "\n",
        "Primero que todo descompongamos $A$ en las matrices $PA = L U$. Entonces la columna j-ésima de la matriz inversa se calcula resolviendo el siguiente sistema\n",
        "\n",
        "$L U\n",
        "\\begin{bmatrix}\n",
        "\\sigma_{0 j}  \\\\\n",
        "\\vdots        \\\\\n",
        "\\sigma_{n, j} \\\\\n",
        "\\end{bmatrix} = P I_j\n",
        "$."
      ],
      "metadata": {
        "id": "7hyrSK3WR7lr"
      }
    },
    {
      "cell_type": "markdown",
      "source": [
        "Calcule las columnas de la matriz $A^{-1}$ implementando los siguientes algoritmos de \"sustitución hacia adelante\" y \"sustitución hacia atrás\":\n",
        "\n"
      ],
      "metadata": {
        "id": "lmXLCKS87fSe"
      }
    },
    {
      "cell_type": "markdown",
      "source": [
        "**Sustitución hacia adelante:**\n",
        "\n",
        "$\\quad  y_i = \\frac{\\left(I_{ij} - \\sum_{j=0}^{i-1} l_{i j} y_j\\right)}{l_{ii}}$ para $ i = 0, 1, \\dots, n$"
      ],
      "metadata": {
        "id": "LA6cNqsbY8Oe"
      }
    },
    {
      "cell_type": "code",
      "source": [
        "def forward_substitution(L, Pb):\n",
        "    #Inicializar la variable y que es igual a Ux.\n",
        "    y = np.zeros_like(Pb, dtype=np.double);\n",
        "\n",
        "    # Por cada fila despejar todas las variables y coeficientes que\n",
        "    # estén situados delante de la diagonal (que tiene valor 1)\n",
        "    # hacia el miembro derecho y dividirlo por el coeficiente de la\n",
        "    # diagonal que es 1. HINT: Para ello utilice el producto interno.\n",
        "    for i in range(0, L.shape[0]):\n",
        "        y[i] = Pb[i] - np.dot(L[i,:i], y[:i])\n",
        "\n",
        "    return y"
      ],
      "metadata": {
        "id": "E1FcBVq09Mpy"
      },
      "execution_count": null,
      "outputs": []
    },
    {
      "cell_type": "markdown",
      "source": [
        "**Sustitución hacia atrás:**\n",
        "\n",
        "$A^{-1}_{ij}= \\frac{\\left(y_{i} - \\sum_{k=i+1}^{n} u_{i k} A^{-1}_{ik}\\right)}{u_{ii}}$\n",
        "\n",
        "donde el índice $j$ se refiere a la columna j-ésima de la matriz $A^{-1}_{ij}$ y el índice $k$ es utilizado por el algoritmo para referirse a las columnas de $U$."
      ],
      "metadata": {
        "id": "_IoSe_QJ9NHw"
      }
    },
    {
      "cell_type": "code",
      "source": [
        "def back_substitution(U, y):\n",
        "    # Iniciar la variable x con zeros del mismo tamaño que y\n",
        "    x = np.zeros_like(y, dtype=np.double);\n",
        "\n",
        "    # Por cada fila en orden inverso, se despejan las variables y\n",
        "    # coeficientes que estén situados detrás de la diagonal.\n",
        "    # Dividir por el valor del elemento en la diagonal.\n",
        "    # HINT: Usar el producto interno.\n",
        "    for i in range(U.shape[0] - 1, -1, -1):\n",
        "        x[i] = (y[i] - np.dot(U[i,i:], x[i:])) / U[i,i]\n",
        "\n",
        "    return x"
      ],
      "metadata": {
        "id": "Bs1KqUY8eQJ-"
      },
      "execution_count": null,
      "outputs": []
    },
    {
      "cell_type": "markdown",
      "source": [],
      "metadata": {
        "id": "XYh4YBsZYtSV"
      }
    },
    {
      "cell_type": "markdown",
      "source": [
        "Calculando la inversa de la forma:\n",
        "\n",
        "$LU A^{-1}_{j} = P I_{j}$\n",
        "\n",
        "para lo cual hacemos la sustitución\n",
        "\n",
        "$U A^{-1}_{j} = y_{j}$ y quedaría\n",
        "\n",
        "$L y_{j} = P I_{j}$ que pudiera ser resulto con el algoritmo de sustitución hacia adelante.\n",
        "\n",
        "Luego, sustituimos el valor de $y_j$ en la ecuación anterior resolviendo\n",
        "\n",
        "$U A^{-1}_{j} = y_{j}$\n",
        "\n",
        "utilizando el algoritmo de sustitución hacia atrás obteniendo la columna $A^{-1}_{j}$ de la matriz inversa de A.\n",
        "\n",
        "Implemente este algoritmo."
      ],
      "metadata": {
        "id": "8OAhN9sKxamT"
      }
    },
    {
      "cell_type": "code",
      "source": [
        "# Crear matriz identidad\n",
        "I = np.identity(A.shape[0])\n",
        "\n",
        "# Crear matriz inversa resultante inicialmente vacía\n",
        "A_1 = np.empty_like(I)\n",
        "\n",
        "# Iterar por las columnas de la matriz A_1\n",
        "for j in range(A_1.shape[1]):\n",
        "    # Hacer sustitución hacia adelante (L y = P I_j)\n",
        "    y = forward_substitution(L, P @ I[:, j])\n",
        "    # Hacer sustitución hacia atrás (U x = y)\n",
        "    x = back_substitution(U, y)\n",
        "    # Reemplazar columna de la matriz inversa\n",
        "    A_1[:, j] = x\n",
        "\n",
        "# Calcular inversa de A usando la función del módulo scipy.linalg para comprobación\n",
        "Ap_1 = la.inv(A)\n",
        "\n",
        "# Imprimir los resultados\n",
        "print(\"A_-1 =\\n\", A_1)\n",
        "print(\"inv(A) =\\n\", Ap_1)\n",
        "# Comparar los resultados\n",
        "print(\"A_-1 == inv(A)?\", np.allclose(A_1, Ap_1))"
      ],
      "metadata": {
        "colab": {
          "base_uri": "https://localhost:8080/"
        },
        "id": "yfrNNo-0eSgg",
        "outputId": "41d20b35-d6c0-4a8f-e686-be06baafaea7"
      },
      "execution_count": null,
      "outputs": [
        {
          "output_type": "stream",
          "name": "stdout",
          "text": [
            "A_-1 =\n",
            " [[-0.04679144  0.00334225  0.03208556]\n",
            " [ 0.45053476 -0.10360963  0.00534759]\n",
            " [-0.15106952  0.08221925 -0.01069519]]\n",
            "inv(A) =\n",
            " [[-0.04679144  0.00334225  0.03208556]\n",
            " [ 0.45053476 -0.10360963  0.00534759]\n",
            " [-0.15106952  0.08221925 -0.01069519]]\n",
            "A_-1 == inv(A)? True\n"
          ]
        }
      ]
    },
    {
      "cell_type": "markdown",
      "source": [
        "# FORUM"
      ],
      "metadata": {
        "id": "ISwnh2wITemG"
      }
    },
    {
      "cell_type": "markdown",
      "source": [
        "Coloque usted los **códigos que desee compartir** con los demás participantes en esta sección.\n",
        "\n",
        "Le pedimos que sea educado y correcto al expresarse en este forum de otra forma nos veremos en la **obligación de cerrar el acceso**.\n",
        "\n",
        "Esperamos que de forma colaborativa se generen valiosos comentarios sugerencias e ideas.\n",
        "\n",
        "Saludos cordiales de parte de la coordinación del curso."
      ],
      "metadata": {
        "id": "JigJfN7-ThBW"
      }
    },
    {
      "cell_type": "markdown",
      "source": [
        "### Pregunta sobre NumPy y la inversa de una matriz\n",
        "\n",
        "En los sistemas Linux (Ubuntu, Arch Linux) obtengo el siguiente resultado\n",
        "```python\n",
        "from numpy import matrix\n",
        "from numpy.linalg import inv\n",
        "A = matrix([[-3., 0., 3], [-9., -2., 5], [-15., -4., 7]])\n",
        ">>> matrix([[ -3.,   0.,   3.],\n",
        "        [ -9.,  -2.,   5.],\n",
        "        [-15.,  -4.,   7.]])\n",
        ">>> np.linalg.inv(A)\n",
        "Traceback (most recent call last):\n",
        "  File \"<stdin>\", line 1, in <module>\n",
        "  File \"<__array_function__ internals>\", line 180, in inv\n",
        "  File \"/tmp/numpy-prueba/lib/python3.10/site-packages/numpy/linalg/linalg.py\", line 545, in inv\n",
        "    ainv = _umath_linalg.inv(a, signature=signature, extobj=extobj)\n",
        "  File \"/tmp/numpy-prueba/lib/python3.10/site-packages/numpy/linalg/linalg.py\", line 88, in _raise_linalgerror_singular\n",
        "    raise LinAlgError(\"Singular matrix\")\n",
        "numpy.linalg.LinAlgError: Singular matrix\n",
        "```\n",
        "Pero, en Windows con Anaconda, obtengo este no error. ¿A qué se debe?\n",
        "![](https://i.imgur.com/tn3ALFb.png)\n",
        "\n",
        "Gracias!"
      ],
      "metadata": {
        "id": "gffEe6yDx6F6"
      }
    },
    {
      "cell_type": "code",
      "source": [],
      "metadata": {
        "id": "qWI-_Cmfx4Ij"
      },
      "execution_count": null,
      "outputs": []
    }
  ]
}